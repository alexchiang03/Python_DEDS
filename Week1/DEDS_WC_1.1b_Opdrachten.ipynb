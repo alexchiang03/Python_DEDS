{
 "cells": [
  {
   "cell_type": "markdown",
   "metadata": {},
   "source": [
    "# Werkcollege-opdrachten Week 1.2"
   ]
  },
  {
   "cell_type": "markdown",
   "metadata": {},
   "source": [
    "## Voorbereiding"
   ]
  },
  {
   "cell_type": "markdown",
   "metadata": {},
   "source": [
    "Importeer in het codeblok hieronder de packages die worden gebruikt om data in te lezen. Geef er ook de gebruikelijke aliassen aan.<br>\n",
    "N.B.: de 2 reeds geschreven coderegels zorgen ervoor dat eventuele warnings, die code-outputs lelijker maken, uitgezet worden."
   ]
  },
  {
   "cell_type": "code",
   "execution_count": 1,
   "metadata": {},
   "outputs": [],
   "source": [
    "\n",
    "import warnings\n",
    "warnings.simplefilter('ignore')"
   ]
  },
  {
   "cell_type": "markdown",
   "metadata": {},
   "source": [
    "Zet de volgende bestanden in een makkelijk terug te vinden map:\n",
    "- go_sales_train.sqlite\n",
    "- go_crm_train.sqlite\n",
    "- go_staff_train.sqlite"
   ]
  },
  {
   "cell_type": "markdown",
   "metadata": {},
   "source": [
    "Bestudeer de bovenste 3 bestanden in DB Browser (SQLite), <a href=\"https://sqlitebrowser.org/dl/\">hier</a> te downloaden. Wat valt je op qua datatypen?<br>"
   ]
  },
  {
   "cell_type": "markdown",
   "metadata": {},
   "source": [
    "## Databasetabel inlezen"
   ]
  },
  {
   "cell_type": "markdown",
   "metadata": {},
   "source": [
    "Creëer een databaseconnectie met het bestand go_sales_train.sqlite."
   ]
  },
  {
   "cell_type": "code",
   "execution_count": 8,
   "metadata": {},
   "outputs": [],
   "source": [
    "import sqlite3\n",
    "\n",
    "conn = sqlite3.connect('go_sales_train.sqlite')"
   ]
  },
  {
   "cell_type": "markdown",
   "metadata": {},
   "source": [
    "<b>Let goed op:</b><br>\n",
    "Als je per ongeluk een verkeerde bestandsnaam ingeeft, maakt Python zélf een leeg databasebestand aan! Er ontstaat dan dus een nieuwe .sqlite, en dat is nadrukkelijk <u>niet de bedoeling.</u>"
   ]
  },
  {
   "cell_type": "markdown",
   "metadata": {},
   "source": [
    "Gebruik de onderstaande sql_query om te achterhalen welke databasetabellen in go_sales_train zitten."
   ]
  },
  {
   "cell_type": "code",
   "execution_count": 16,
   "metadata": {},
   "outputs": [
    {
     "name": "stdout",
     "output_type": "stream",
     "text": [
      "country\n",
      "order_details\n",
      "order_header\n",
      "order_method\n",
      "product\n",
      "product_line\n",
      "product_type\n",
      "retailer_site\n",
      "return_reason\n",
      "returned_item\n",
      "sales_branch\n",
      "sales_staff\n"
     ]
    }
   ],
   "source": [
    "sql_query = \"SELECT name FROM sqlite_master WHERE type='table';\"\n",
    "#Vul dit codeblok verder in\n",
    "conn = sqlite3.connect('go_sales_train.sqlite')\n",
    "cursor = conn.cursor()\n",
    "cursor.execute(sql_query)\n",
    "tables = cursor.fetchall()\n",
    "for table in tables:\n",
    "    print(table[0])\n"
   ]
  },
  {
   "cell_type": "markdown",
   "metadata": {},
   "source": [
    "Krijg je lege output? Dan heb je per ongeluk een leeg  databasebestand (.sqlite) aangemaakt.<br>\n",
    "Lees de informatie onder het kopje <u>Let goed op:</u> hierboven nog eens goed door."
   ]
  },
  {
   "cell_type": "markdown",
   "metadata": {},
   "source": [
    "Gebruik de gecreëerde databaseconnectie om de resultaten van de volgende query in een DataFrame te zetten:<br>\n",
    "*SELECT * FROM sales_staff* "
   ]
  },
  {
   "cell_type": "code",
   "execution_count": 18,
   "metadata": {},
   "outputs": [
    {
     "name": "stdout",
     "output_type": "stream",
     "text": [
      "(4, 'Denis', 'Pagé', 'Branch Manager', '+33 1 68 94 52 20', 325, '+33 1 68 94 56 60', 'DPage@grtd123.com', '1996-11-03', 6)\n",
      "(5, 'Élizabeth', 'Michel', 'Level 3 Sales Representative', '+33 1 68 94 52 20', 336, '+33 1 68 94 56 60', 'EMichel@grtd123.com', '1995-06-08', 6)\n",
      "(6, 'Émile', 'Clermont', 'Level 1 Sales Representative', '+33 1 68 94 52 20', 378, '+33 1 68 94 56 60', 'EClermont@grtd123.com', '1998-04-07', 6)\n",
      "(7, 'Étienne', 'Jauvin', 'Level 2 Sales Representative', '+33 1 68 94 52 20', 398, '+33 1 68 94 56 60', 'EJauvin@grtd123.com', '1997-08-16', 6)\n",
      "(12, 'Elsbeth', 'Wiesinger', 'Level 2 Sales Representative', '+(49) 40 663 1990', 1818, '+(49) 40 663 4571', 'EWiesinger@grtd123.com', '1997-02-27', 13)\n",
      "(13, 'Else', 'Mörike', 'Regional Manager', '+(49) 40 663 1990', 1865, '+(49) 40 663 4571', 'EMorike@grtd123.com', '1999-06-02', 13)\n",
      "(14, 'Frank', 'Fuchs', 'Branch Manager', '+(49) 40 663 1990', 1847, '+(49) 40 663 4571', 'FFuchs@grtd123.com', '1997-01-12', 13)\n",
      "(15, 'Gunter', 'Erler', 'Level 2 Sales Representative', '+(49) 40 663 1990', 1823, '+(49) 40 663 4571', 'GErler@grtd123.com', '1998-03-05', 13)\n",
      "(16, 'Björn', 'Winkler', 'Level 3 Sales Representative', '+(49) 89 882 3456', 224, '+(49) 89 882 3455', 'BWinkler@grtd123.com', '1996-07-03', 14)\n",
      "(17, 'Fritz', 'Hirsch', 'Branch Manager', '+(49) 89 882 3456', 225, '+(49) 89 882 3455', 'FHirsch@grtd123.com', '1996-09-12', 14)\n",
      "(18, 'Jörg', 'Kunze', 'District Manager', '+(49) 89 882 3456', 234, '+(49) 89 882 3455', 'JKunze@grtd123.com', '2000-01-07', 14)\n",
      "(19, 'Silvano', 'Allessori', 'Level 2 Sales Representative', '+33 1 68 94 52 20', 317, '+33 1 68 94 56 60', 'SAllessori@grtd123.com', '1998-12-06', 7)\n",
      "(20, 'Maria', 'Iacobucci', 'Branch Manager', '+(39) 02 41 05 400', None, '+(39) 02 41 20 549', 'MIacobucci@grtd123.com', '1996-08-18', 7)\n",
      "(21, 'Alessandra', 'Torta', 'Level 3 Sales Representative', '+(39) 02 79 53 780', None, '+(39) 02 79 53 477', 'ATorta@grtd123.com', '1997-02-13', 7)\n",
      "(22, 'Belinda', 'Jansen-Velasquez', 'Level 1 Sales Representative', '+31 (0)20 692 93 94', 187, '+31 (0)20 692 93 06', 'BVelasquez@grtd123.com', '1999-02-12', 9)\n",
      "(23, 'Ellen', 'Shapiro', 'Level 2 Sales Representative', '+31 (0)20 692 93 94', 179, '+31 (0)20 692 93 06', 'EShapiro@grtd123.com', '1999-01-15', 9)\n",
      "(24, 'Jan', 'Haverkamp', 'Level 2 Sales Representative', '+31 (0)20 692 93 94', 163, '+31 (0)20 692 93 06', 'JHaverkamp@grtd123.com', '1998-07-18', 9)\n",
      "(25, 'Kick', 'Kalkman', 'Branch Manager', '+31 (0)20 692 93 94', 197, '+31 (0)20 692 93 06', 'KKalkman@grtd123.com', '1995-09-06', 9)\n",
      "(26, 'Maria', 'Laponder', 'Level 3 Sales Representative', '+31 (0)20 692 93 94', 144, '+31 (0)20 692 93 06', 'MLaponder@grtd123.com', '1995-10-10', 9)\n",
      "(27, 'Anders', 'Nilsson', 'Level 2 Sales Representative', '+(46) 08 753 116', 236, '+(46) 08 752 592', 'ANilsson@grtd123.com', '1998-08-14', 15)\n",
      "(28, 'Bengt', 'Gradin', 'Level 1 Sales Representative', '+(46) 08 753 116', 284, '+(46) 08 752 592', 'BGradin@grtd123.com', '1999-01-13', 15)\n",
      "(29, 'Irene', 'Engelbrektsson', 'Level 2 Sales Representative', '+(46) 08 753 116', 213, '+(46) 08 752 592', 'IEngelbrektsson@grtd123.com', '1998-02-18', 15)\n",
      "(30, 'Karin', 'Bergström', 'Branch Manager', '+(46) 08 753 116', 215, '+(46) 08 752 592', 'KBergstrom@grtd123.com', '1998-04-27', 15)\n",
      "(43, 'Martine', 'Vachon', 'Level 2 Sales Representative', '1 (403) 232-5986', 312, '1 (403) 232-5831', 'MVachon@grtd123.com', '1998-03-18', 17)\n",
      "(44, 'Harold', 'Townsend', 'Level 3 Sales Representative', '1 (403) 232-5986', 315, '1 (403) 232-5831', 'HTownsend@grtd123.com', '1992-08-08', 17)\n",
      "(45, 'Sally', 'White', 'Branch Manager', '1 (403) 232-5986', 317, '1 (403) 232-5831', 'SWhite@grtd123.com', '1992-03-26', 17)\n",
      "(46, 'Sherry', 'Rowland', 'Level 2 Sales Representative', '1 (403) 232-5986', 325, '1 (403) 232-5831', 'SRowland@grtd123.com', '1997-02-13', 17)\n",
      "(47, 'Frank', 'Bretton', 'District Manager', '1 (403) 232-5986', 301, '1 (403) 232-5831', 'FBretton@grtd123.com', '2000-03-01', 17)\n",
      "(48, 'Georges', 'Saint-Germain', 'Branch Manager', '1 (416) 493-5595', 1245, '1 (416) 496-9667', 'GSaintgermain@grtd123.com', '1991-10-27', 18)\n",
      "(49, 'Carole', 'Claudel', 'Level 2 Sales Representative', '1 (416) 493-5595', 2378, '1 (416) 496-9667', 'CClaudel@grtd123.com', '1994-08-12', 18)\n",
      "(50, 'Donald', 'Chow', 'Level 3 Sales Representative', '1 (416) 493-5595', 6587, '1 (416) 490-7420', 'DChow@grtd123.com', '1990-04-14', 18)\n",
      "(51, 'Samantha', 'Pierce', 'Level 2 Sales Representative', '1 (416) 493-5595', 4589, '1 (416) 490-7420', 'SPierce@grtd123.com', '1998-03-15', 18)\n",
      "(52, 'Brendon', 'Pike', 'Level 1 Sales Representative', '1 (416) 493-5595', 2189, '1 (416) 496-9667', 'BPike@grtd123.com', '1999-12-20', 18)\n",
      "(53, 'Alex', 'Rodriguez', 'Branch Manager', '1 (617) 268-6754', 1334, '1 (617) 268-3464', 'ARodriguez@grtd123.com', '1992-02-07', 19)\n",
      "(54, 'Allisia', 'Wilcox', 'Level 2 Sales Representative', '1 (617) 268-6754', 1436, '1 (617) 268-3464', 'AWilcox@grtd123.com', '1997-07-12', 19)\n",
      "(55, 'Pierre', 'Lavoie', 'Level 3 Sales Representative', '1 (617) 268-6754', 1447, '1 (617) 268-3464', 'PLavoie@grtd123.com', '1994-10-08', 19)\n",
      "(56, 'Rhonda', 'Cummings', 'Level 2 Sales Representative', '1 (617) 268-6754', 1384, '1 (617) 268-3464', 'RCummings@grtd123.com', '1996-05-06', 19)\n",
      "(57, 'Samantha', 'Floyd', 'Branch Manager', '1 (206) 292-0012', 331, '1 (206) 292-3312', 'SFloyd@grtd123.com', '1995-07-17', 20)\n",
      "(58, 'Ashley', 'McCormick', 'Level 2 Sales Representative', '1 (206) 292-0012', 384, '1 (206) 292-3312', 'AMccormick@grtd123.com', '1996-04-15', 20)\n",
      "(59, 'Audrey', 'Lastman', 'Level 3 Sales Representative', '1 (206) 292-0012', 396, '1 (206) 292-3312', 'ALastman@grtd123.com', '1995-02-15', 20)\n",
      "(60, 'Bart', 'Scott', 'Level 2 Sales Representative', '1 (206) 292-0012', 312, '1 (206) 292-3312', 'BScott@grtd123.com', '1997-11-28', 20)\n",
      "(61, 'Julie', 'Olsen', 'Branch Manager', '1 (310) 281-5722', 2045, '1 (310) 281-9087', 'JOlsen@grtd123.com', '1998-02-18', 22)\n",
      "(62, 'Ken', 'Chambers', 'Level 2 Sales Representative', '1 (310) 281-5722', 2123, '1 (310) 281-9087', 'KChambers@grtd123.com', '1998-04-03', 22)\n",
      "(63, 'Chad', 'Michaels', 'Level 3 Sales Representative', '1 (310) 281-5722', 2178, '1 (310) 281-9087', 'CMichaels@grtd123.com', '1996-05-17', 22)\n",
      "(64, 'Maureen', 'Hoffman', 'Level 2 Sales Representative', '1 (310) 281-5722', 2160, '1 (310) 281-9087', 'MHoffman@grtd123.com', '1998-07-22', 22)\n",
      "(65, 'Corey', 'Wright', 'Branch Manager', '1 (305) 557-4810', 3490, '1 (305) 557-7650', 'CWright@grtd123.com', '1995-10-11', 21)\n",
      "(66, 'Dale', 'Fowler', 'Level 2 Sales Representative', '1 (305) 557-4810', 3652, '1 (305) 557-7650', 'DFowler@grtd123.com', '1998-02-12', 21)\n",
      "(67, 'Lowell', 'Johnson', 'Level 2 Sales Representative', '1 (305) 557-4810', 3335, '1 (305) 557-7650', 'LJohnson@grtd123.com', '1997-03-06', 21)\n",
      "(68, 'Margaret', 'Lewiston', 'Level 2 Sales Representative', '1 (305) 557-4810', 3121, '1 (305) 557-7650', 'MLewiston@grtd123.com', '1996-08-18', 21)\n",
      "(69, 'Eric', 'Carson', 'Level 2 Sales Representative', '1 (617) 268-6754', 1387, '1 (617) 268-3464', 'ECarson@grtd123.com', '1996-11-08', 19)\n",
      "(70, 'Valerie', 'Cohen', 'Level 2 Sales Representative', '1 (305) 557-4810', 3547, '1 (305) 557-7650', 'VCohen@grtd123.com', '1997-07-23', 21)\n",
      "(71, 'Estelle', 'Johnson', 'District Manager', '1 (617) 268-6754', 1399, '1 (617) 268-3464', 'EJohnson@grtd123.com', '1998-12-04', 19)\n",
      "(72, 'Greg', 'Belding', 'Regional Manager', '1 (206) 292-0012', 373, '1 (206) 292-3312', 'GBelding@grtd123.com', '1998-12-04', 20)\n",
      "(73, 'Harold', 'Germaine', 'Level 1 Sales Representative', '1 (310) 281-5722', 2088, '1 (310) 281-9087', 'HGermaine@grtd123.com', '1998-11-19', 22)\n",
      "(74, 'Janice', 'Thomas', 'Level 1 Sales Representative', '1 (305) 557-4810', 3207, '1 (305) 557-7650', 'JThomas@grtd123.com', '1998-06-12', 21)\n",
      "(75, 'Julie', 'Béchard', 'Branch Manager', '+33 4 52 26 33 88', 1315, '+33 4 66 35 98 95', 'JBechard@grtd123.com', '1994-09-03', 23)\n",
      "(76, 'Florence', 'Martin', 'Level 2 Sales Representative', '+33 4 52 26 33 88', 1318, '+33 4 66 35 98 95', 'FMartin@grtd123.com', '1997-08-23', 23)\n",
      "(77, 'Daniel', 'Turpin', 'Level 2 Sales Representative', '+33 4 52 26 33 88', 1316, '+33 4 66 35 98 95', 'DTurpin@grtd123.com', '1998-05-13', 23)\n",
      "(78, 'Frédéric', 'Samson', 'Level 3 Sales Representative', '+33 4 52 26 33 88', 1322, '+33 4 66 35 98 95', 'FSamson@grtd123.com', '1994-02-21', 23)\n",
      "(79, 'Lucía', 'Reyna', 'Branch Manager', '+(525) 549 6090', 452, '+(52) 549 6088', 'LReyna@grtd123.com', '1997-03-10', 24)\n",
      "(80, 'Ana', 'Orozco', 'Level 2 Sales Representative', '+(525) 549 6090', 449, '+(52) 549 6088', 'AOrozco@grtd123.com', '1997-10-11', 24)\n",
      "(81, 'Gabriela', 'Rojas', 'Level 2 Sales Representative', '+(525) 549 6090', 465, '+(52) 549 6088', 'GRojas@grtd123.com', '1998-03-19', 24)\n",
      "(83, 'Machiko', 'Iseya', 'Level 1 Sales Representative', '81-3-6259-6601', 2236, '81-3-6208-4445', 'MIseya@grtd123.com', '1999-02-21', 25)\n",
      "(85, 'Genzo', 'Imori', 'Level 3 Sales Representative', '81-3-6259-6601', 2245, '81-3-6208-4445', 'GImori@grtd123.com', '1998-01-05', 25)\n",
      "(87, 'Kazumi', 'Uragome', 'District Manager', '81-6-616-5656', 2156, '81-6-616-5657', 'KUragome@grtd123.com', '1998-11-05', 26)\n",
      "(88, 'Masuzo', 'Kakui', 'Level 3 Sales Representative', '81-6-616-5656', 2155, '81-6-616-5657', 'MKakui@grtd123.com', '1998-05-12', 26)\n",
      "(89, 'Alice', 'Walter', 'Branch Manager', '+(61) 03 2982  4242', 1845, '+(61) 03 2982  4243', 'AWalter@grtd123.com', '1999-09-08', 28)\n",
      "(90, 'Dave', 'Smythe', 'Level 1 Sales Representative', '+(61) 03 2982  4242', 1875, '+(61) 03 2982  4243', 'DSmythe@grtd123.com', '2000-01-10', 28)\n",
      "(91, 'Donald', 'Ward', 'Level 2 Sales Representative', '+(61) 03 2982  4242', 1874, '+(61) 03 2982  4243', 'DWard@grtd123.com', '1999-11-29', 28)\n",
      "(92, 'Jake', 'Cartel', 'Level 2 Sales Representative', '+(61) 03 2982  4242', 1648, '+(61) 03 2982  4243', 'JCartel@grtd123.com', '1999-12-15', 28)\n",
      "(93, 'John', 'Sinden', 'Level 3 Sales Representative', '+(61) 03 2982  4242', 1892, '+(61) 03 2982  4243', 'JSinden@grtd123.com', '1999-11-30', 28)\n",
      "(94, 'Yolanda', 'Torres', 'Level 3 Sales Representative', '+35 94 322 3540', 125, '+35 91 548 1637', 'YTorres@grtd123.com', '1995-08-29', 29)\n",
      "(95, 'Tomás', 'Iglesias', 'Level 2 Sales Representative', '+35 94 322 3540', 325, '+35 91 548 1637', 'TIglesias@grtd123.com', '1998-02-19', 29)\n",
      "(96, 'Bayard', 'Lopes', 'Branch Manager', '+55 (11) 344-4444', 3490, '+55 (11) 333-2223', 'BLopes@grtd123.com', '1997-08-12', 30)\n",
      "(97, 'Viviam', 'Barros', 'Level 3 Sales Representative', '+55 (11) 344-4444', 3364, '+55 (11) 333-2223', 'VBarros@grtd123.com', '2001-02-10', 30)\n",
      "(98, 'Eduardo', 'Guimarães', 'Level 2 Sales Representative', '+55 (11) 344-4444', 1442, '+55 (11) 333-2223', 'EGuimaraes@grtd123.com', '1999-02-14', 30)\n",
      "(99, 'Helena', 'Lindholm', 'Level 3 Sales Representative', '+358(0)17 - 433 127', 489, '+358(0)17 - 433 129', 'HLindholm@grtd123.com', '1997-08-17', 31)\n",
      "(100, 'Tuomas', 'Savolainen', 'Level 2 Sales Representative', '+358(0)17 - 433 127', 825, '+358(0)17 - 433 129', 'TSavolainen@grtd123.com', '1998-07-23', 31)\n",
      "(101, 'Chang-ho', 'Kim', 'Level 2 Sales Representative', '82-2-778-6587', 1228, '82-2-778-6586', 'CKim@grtd123.com', '1998-12-15', 32)\n",
      "(102, 'Jung-ho', 'Choi', 'Level 3 Sales Representative', '82-2-778-6587', 2641, '82-2-778-6586', 'JChoi@grtd123.com', '1998-11-27', 32)\n",
      "(103, 'Kwei-Ping', 'Kao', 'Level 2 Sales Representative', '886-2-2975-1988', 1541, '886-2-2989-4978', 'KKwao@grtd123.com', '1998-10-07', 33)\n",
      "(104, 'Chin-Tsai', 'Fang', 'Level 3 Sales Representative', '886-2-2975-1988', 2311, '886-2-2989-4978', 'CFon@grtd123.com', '1996-05-08', 33)\n",
      "(105, 'Xiangyong', 'Wang', 'Level 2 Sales Representative', '86-21-6790-5612', 334, '86-21-6790-5612', 'XWang@grtd123.com', '1998-05-07', 34)\n",
      "(106, 'Fei', 'Meng', 'Level 3 Sales Representative', '86-21-6790-5612', 365, '86-21-6790-5612', 'FMeng@grtd123.com', '1998-03-25', 34)\n",
      "(107, 'Walter', 'Taylor', 'Branch Manager', '+(44) 181 2033144', 3547, '+(44) 181 5030282', 'WTaylor@grtd123.com', '1995-06-09', 35)\n",
      "(108, 'Penelope', 'Tamrine', 'General Manager', '+(44) 181 2033144', 3542, '+(44) 181 5030282', 'PTamrine@grtd123.com', '1998-12-18', 35)\n",
      "(109, 'Humphrey', 'Willoughby', 'Level 2 Sales Representative', '+(44) 181 2033144', 3544, '+(44) 181 5030282', 'HWilloughby@grtd123.com', '1998-06-12', 35)\n",
      "(110, 'James', 'Ross-Hythe', 'Level 3 Sales Representative', '+(44) 181 2033144', 3621, '+(44) 181 5030282', 'JHythe@grtd123.com', '1997-09-12', 35)\n",
      "(111, 'Polly', 'Linton', 'Branch Manager', '+(44) 121 3505267', 1216, '+(44) 121 3583843', 'PLinton@grtd123.com', '1996-06-18', 36)\n",
      "(112, 'Josef', 'Lopez', 'Level 1 Sales Representative', '+(44) 121 3505267', 1287, '+(44) 121 3583843', 'JLopez@grtd123.com', '1999-01-02', 36)\n",
      "(113, 'Keith', 'Reed', 'Level 1 Sales Representative', '+(44) 121 3505267', 1198, '+(44) 121 3583843', 'KReed@grtd123.com', '1999-06-15', 36)\n",
      "(114, 'Janet', 'Walker', 'Level 3 Sales Representative', '+(44) 121 3505267', 1233, '+(44) 121 3583843', 'JWalker@grtd123.com', '1995-07-27', 36)\n",
      "(115, 'Emily', 'Browne', 'Level 2 Sales Representative', '+(44) 121 3505267', 1247, '+(44) 121 3583843', 'EBrowne@grtd123.com', '1998-07-20', 36)\n",
      "(116, 'Susanne', 'Sommer', 'Level 2 Sales Representative', '+(41) 17 12 13 14', 1115, '+(41) 17 12 13 20', 'SSommer@grtd123.com', '2000-01-17', 37)\n",
      "(117, 'Frank', 'Jever', 'Level 3 Sales Representative', '+(41) 17 12 13 14', 1154, '+(41) 17 12 13 20', 'FJever@grtd123.com', '1999-10-18', 37)\n",
      "(118, 'Gianni', 'Vertemati', 'Level 1 Sales Representative', '+(41) 17 12 13 14', 1254, '+(41) 17 12 13 20', 'GVertemati@grtd123.com', '2000-02-10', 37)\n",
      "(119, 'Gracy', 'Gellens', 'Branch Manager', '+32 16 20.73.21', 1349, '+32 16 20.73.32', 'GGellens@grtd123.com', '1999-09-10', 38)\n",
      "(120, 'Giele', 'Laermans', 'Level 1 Sales Representative', '+32 16 20.73.21', 1340, '+32 16 20.73.32', 'GLaermans@grtd123.com', '1999-11-15', 38)\n",
      "(121, 'François', 'De Crée', 'Level 1 Sales Representative', '+32 16 20.73.21', 1642, '+32 16 20.73.32', 'FDecree@grtd123.com', '1999-12-01', 38)\n",
      "(122, 'Yvette', 'Lattrez', 'Level 3 Sales Representative', '+32 16 20.73.21', 1633, '+32 16 20.73.32', 'YLattrez@grtd123.com', '1999-12-09', 38)\n",
      "(123, 'Willi', 'Seefelder', 'Level 2 Sales Representative', '+(43) 13 79 56 32', 325, '+(43) 13 79 56 33', 'WSeefelder@grtd123.com', '1998-10-28', 39)\n",
      "(124, 'Sabine', 'Grüner', 'Level 3 Sales Representative', '+(43) 13 79 56 32', 348, '+(43) 13 79 56 33', 'SGruner@grtd123.com', '1998-02-18', 39)\n"
     ]
    }
   ],
   "source": [
    "sql_query = \"SELECT * From sales_staff\"\n",
    "c = conn.cursor()\n",
    "c.execute(sql_query)\n",
    "rows = c.fetchall()\n",
    "for row in rows:\n",
    "    print(row)\n"
   ]
  },
  {
   "cell_type": "markdown",
   "metadata": {},
   "source": [
    "## Datumkolommen"
   ]
  },
  {
   "cell_type": "markdown",
   "metadata": {},
   "source": [
    "Zoals je misschien al hebt gezien in DB Browser, zijn datums als TEXT opgeslagen, en niet als DATE, DATETIME o.i.d. Hier moeten we dus nog even \"typische datumkolommen\" van maken. Dat doen we met de volgende code:"
   ]
  },
  {
   "cell_type": "code",
   "execution_count": null,
   "metadata": {},
   "outputs": [
    {
     "ename": "NameError",
     "evalue": "name 'sales_staff' is not defined",
     "output_type": "error",
     "traceback": [
      "\u001b[1;31m---------------------------------------------------------------------------\u001b[0m",
      "\u001b[1;31mNameError\u001b[0m                                 Traceback (most recent call last)",
      "Cell \u001b[1;32mIn[21], line 3\u001b[0m\n\u001b[0;32m      1\u001b[0m \u001b[38;5;28;01mimport\u001b[39;00m\u001b[38;5;250m \u001b[39m\u001b[38;5;21;01mpandas\u001b[39;00m\u001b[38;5;250m \u001b[39m\u001b[38;5;28;01mas\u001b[39;00m\u001b[38;5;250m \u001b[39m\u001b[38;5;21;01mpd\u001b[39;00m\n\u001b[1;32m----> 3\u001b[0m sales_staff[\u001b[38;5;124m'\u001b[39m\u001b[38;5;124mDATE_HIRED\u001b[39m\u001b[38;5;124m'\u001b[39m] \u001b[38;5;241m=\u001b[39m pd\u001b[38;5;241m.\u001b[39mto_datetime(\u001b[43msales_staff\u001b[49m[\u001b[38;5;124m'\u001b[39m\u001b[38;5;124mDATE_HIRED\u001b[39m\u001b[38;5;124m'\u001b[39m])\n\u001b[0;32m      4\u001b[0m sales_staff\u001b[38;5;241m.\u001b[39mdtypes\n",
      "\u001b[1;31mNameError\u001b[0m: name 'sales_staff' is not defined"
     ]
    }
   ],
   "source": [
    "sales_staff['DATE_HIRED'] = pd.to_datetime(sales_staff['DATE_HIRED'])\n",
    "sales_staff.dtypes"
   ]
  },
  {
   "cell_type": "markdown",
   "metadata": {},
   "source": [
    "Als we hier het jaar uit willen halen, schrijven we:"
   ]
  },
  {
   "cell_type": "code",
   "execution_count": null,
   "metadata": {},
   "outputs": [],
   "source": [
    "pd.DatetimeIndex(sales_staff['DATE_HIRED']).quarter"
   ]
  },
  {
   "cell_type": "markdown",
   "metadata": {},
   "source": [
    "Deze zelfde syntax is te gebruiken voor het extraheren van kwartalen, maanden, weken en dagen. Probeer het maar eens!"
   ]
  },
  {
   "cell_type": "markdown",
   "metadata": {},
   "source": [
    "## DataFrames uitsplitsen en opbouwen met Series"
   ]
  },
  {
   "cell_type": "markdown",
   "metadata": {},
   "source": [
    "De volgende 5 kolommen hebben betrekking op de contactdetails van elke medewerker in dit DataFrame:\n",
    "- SALES_STAFF_CODE\n",
    "- WORK_PHONE\n",
    "- EXTENSION\n",
    "- FAX\n",
    "- EMAIL\n",
    "\n",
    "Maak van elk van deze 5 kolommen een serie."
   ]
  },
  {
   "cell_type": "code",
   "execution_count": 23,
   "metadata": {},
   "outputs": [
    {
     "data": {
      "text/html": [
       "<div>\n",
       "<style scoped>\n",
       "    .dataframe tbody tr th:only-of-type {\n",
       "        vertical-align: middle;\n",
       "    }\n",
       "\n",
       "    .dataframe tbody tr th {\n",
       "        vertical-align: top;\n",
       "    }\n",
       "\n",
       "    .dataframe thead th {\n",
       "        text-align: right;\n",
       "    }\n",
       "</style>\n",
       "<table border=\"1\" class=\"dataframe\">\n",
       "  <thead>\n",
       "    <tr style=\"text-align: right;\">\n",
       "      <th></th>\n",
       "      <th>SALES_STAFF_CODE</th>\n",
       "      <th>WORK_PHONE</th>\n",
       "      <th>EXTENSION</th>\n",
       "      <th>FAX</th>\n",
       "      <th>EMAIL</th>\n",
       "    </tr>\n",
       "  </thead>\n",
       "  <tbody>\n",
       "    <tr>\n",
       "      <th>0</th>\n",
       "      <td>S1</td>\n",
       "      <td>1</td>\n",
       "      <td>123</td>\n",
       "      <td>321</td>\n",
       "      <td>example1@123.com</td>\n",
       "    </tr>\n",
       "    <tr>\n",
       "      <th>1</th>\n",
       "      <td>S2</td>\n",
       "      <td>1</td>\n",
       "      <td>456</td>\n",
       "      <td>654</td>\n",
       "      <td>example2@123.com</td>\n",
       "    </tr>\n",
       "    <tr>\n",
       "      <th>2</th>\n",
       "      <td>S3</td>\n",
       "      <td>0</td>\n",
       "      <td>789</td>\n",
       "      <td>987</td>\n",
       "      <td>example3@123.com</td>\n",
       "    </tr>\n",
       "    <tr>\n",
       "      <th>3</th>\n",
       "      <td>S4</td>\n",
       "      <td>1</td>\n",
       "      <td>101</td>\n",
       "      <td>101</td>\n",
       "      <td>example4@123.com</td>\n",
       "    </tr>\n",
       "    <tr>\n",
       "      <th>4</th>\n",
       "      <td>S5</td>\n",
       "      <td>0</td>\n",
       "      <td>112</td>\n",
       "      <td>112</td>\n",
       "      <td>example5@123.com</td>\n",
       "    </tr>\n",
       "  </tbody>\n",
       "</table>\n",
       "</div>"
      ],
      "text/plain": [
       "  SALES_STAFF_CODE  WORK_PHONE  EXTENSION  FAX             EMAIL\n",
       "0               S1           1        123  321  example1@123.com\n",
       "1               S2           1        456  654  example2@123.com\n",
       "2               S3           0        789  987  example3@123.com\n",
       "3               S4           1        101  101  example4@123.com\n",
       "4               S5           0        112  112  example5@123.com"
      ]
     },
     "execution_count": 23,
     "metadata": {},
     "output_type": "execute_result"
    }
   ],
   "source": [
    "data =  {\n",
    "    'SALES_STAFF_CODE': ['S1', 'S2', 'S3', 'S4', 'S5'],\n",
    "    'WORK_PHONE': [1, 1, 0, 1, 0],\n",
    "    'EXTENSION': [123, 456, 789, 101, 112],\n",
    "    'FAX': [321, 654, 987, 101, 112],\n",
    "    'EMAIL': ['example1@123.com', 'example2@123.com', 'example3@123.com', 'example4@123.com', 'example5@123.com'],\n",
    "}\n",
    "data = pd.DataFrame(data)\n",
    "data"
   ]
  },
  {
   "cell_type": "markdown",
   "metadata": {},
   "source": [
    "Zet allevijf gecreëerde series als kolommen naast elkaar in een DataFrame (*contact_details*). Gebruik pd.concat(...)<br>\n",
    "Hulpvraag: welke waarde geef je aan de axis-parameter?"
   ]
  },
  {
   "cell_type": "code",
   "execution_count": 5,
   "metadata": {},
   "outputs": [
    {
     "name": "stdout",
     "output_type": "stream",
     "text": [
      "  SALES_STAFF_CODE  WORK_PHONE  EXTENSION  FAX             EMAIL  \\\n",
      "0               S1           1        123  321  example1@123.com   \n",
      "1               S2           1        456  654  example2@123.com   \n",
      "2               S3           0        789  987  example3@123.com   \n",
      "3               S4           1        101  101  example4@123.com   \n",
      "4               S5           0        112  112  example5@123.com   \n",
      "\n",
      "  SALES_STAFF_CODE  WORK_PHONE  EXTENSION  FAX             EMAIL  \n",
      "0               S1           1        123  321  example1@123.com  \n",
      "1               S2           1        456  654  example2@123.com  \n",
      "2               S3           0        789  987  example3@123.com  \n",
      "3               S4           1        101  101  example4@123.com  \n",
      "4               S5           0        112  112  example5@123.com  \n"
     ]
    }
   ],
   "source": [
    "data =  {\n",
    "    'SALES_STAFF_CODE': ['S1', 'S2', 'S3', 'S4', 'S5'],\n",
    "    'WORK_PHONE': [1, 1, 0, 1, 0],\n",
    "    'EXTENSION': [123, 456, 789, 101, 112],\n",
    "    'FAX': [321, 654, 987, 101, 112],\n",
    "    'EMAIL': ['example1@123.com', 'example2@123.com', 'example3@123.com', 'example4@123.com', 'example5@123.com'],\n",
    "}\n",
    "data = pd.DataFrame(data)\n",
    "\n",
    "sales_staff = data['SALES_STAFF_CODE']\n",
    "work_phone = data['WORK_PHONE']\n",
    "extension = data['EXTENSION']\n",
    "fax = data['FAX']\n",
    "email = data['EMAIL']\n",
    "\n",
    "contact_details = pd.concat([sales_staff, work_phone, extension, fax, email, data], axis=1)\n",
    "\n",
    "print(contact_details)"
   ]
  },
  {
   "cell_type": "markdown",
   "metadata": {},
   "source": [
    "## Series en DataFrames maken vanuit lists en dictionaries"
   ]
  },
  {
   "cell_type": "markdown",
   "metadata": {},
   "source": [
    "Met .head(*getal*) kan je de bovenste *getal* rijen van een tabel selecteren.<br>\n",
    "Selecteer op deze manier de bovenste 5 rijen van *contact_details*.<br>\n",
    "Sla dit resultaat op in een nieuw DataFrame."
   ]
  },
  {
   "cell_type": "code",
   "execution_count": 10,
   "metadata": {},
   "outputs": [
    {
     "name": "stdout",
     "output_type": "stream",
     "text": [
      "  SALES_STAFF_CODE  WORK_PHONE  EXTENSION  FAX             EMAIL  \\\n",
      "0               S1           1        123  321  example1@123.com   \n",
      "1               S2           1        456  654  example2@123.com   \n",
      "2               S3           0        789  987  example3@123.com   \n",
      "3               S4           1        101  101  example4@123.com   \n",
      "4               S5           0        112  112  example5@123.com   \n",
      "\n",
      "  SALES_STAFF_CODE  WORK_PHONE  EXTENSION  FAX             EMAIL  \n",
      "0               S1           1        123  321  example1@123.com  \n",
      "1               S2           1        456  654  example2@123.com  \n",
      "2               S3           0        789  987  example3@123.com  \n",
      "3               S4           1        101  101  example4@123.com  \n",
      "4               S5           0        112  112  example5@123.com  \n"
     ]
    }
   ],
   "source": [
    "data =  {\n",
    "    'SALES_STAFF_CODE': ['S1', 'S2', 'S3', 'S4', 'S5', 'S6'],\n",
    "    'WORK_PHONE': [1, 1, 0, 1, 0, 1],\n",
    "    'EXTENSION': [123, 456, 789, 101, 112, 113],\n",
    "    'FAX': [321, 654, 987, 101, 112, 113],\n",
    "    'EMAIL': ['example1@123.com', 'example2@123.com', 'example3@123.com', 'example4@123.com', 'example5@123.com', 'example6@123.com'],\n",
    "}\n",
    "data = pd.DataFrame(data)\n",
    "\n",
    "sales_staff = data['SALES_STAFF_CODE']\n",
    "work_phone = data['WORK_PHONE']\n",
    "extension = data['EXTENSION']\n",
    "fax = data['FAX']\n",
    "email = data['EMAIL']\n",
    "\n",
    "contact_details = pd.concat([sales_staff, work_phone, extension, fax, email, data], axis=1)\n",
    "\n",
    "top_5_contact_details = contact_details.head(5)\n",
    "\n",
    "print(top_5_contact_details)\n"
   ]
  },
  {
   "cell_type": "markdown",
   "metadata": {},
   "source": [
    "Aan deze 10 rijen met contactdetails willen we 3 kolommen toevoegen: 'FIRST_LANGUAGE', 'SECOND_LANGUAGE' & 'THIRD_LANGUAGE'.<br>\n",
    "Iedereens 'First Language' is Engels, afgekort 'EN'. Maak een lijst waarin 5x 'EN' staat.<br>\n",
    "Converteer deze lijst vervolgens naar een serie en voeg deze horizontaal samen met het resultaat van de vorige opdracht.<br>\n",
    "Vergeet niet een passende naam te geven aan de nieuw ontstane kolom."
   ]
  },
  {
   "cell_type": "code",
   "execution_count": 20,
   "metadata": {},
   "outputs": [
    {
     "name": "stdout",
     "output_type": "stream",
     "text": [
      "  SALES_STAFF_CODE  WORK_PHONE  EXTENSION  FAX             EMAIL  \\\n",
      "0               S1           1        123  321  example1@123.com   \n",
      "1               S2           1        456  654  example2@123.com   \n",
      "2               S3           0        789  987  example3@123.com   \n",
      "3               S4           1        101  101  example4@123.com   \n",
      "4               S5           0        112  112  example5@123.com   \n",
      "\n",
      "  FIRST_LANGUAGE  \n",
      "0             EN  \n",
      "1             EN  \n",
      "2             EN  \n",
      "3             EN  \n",
      "4             EN  \n"
     ]
    }
   ],
   "source": [
    "import pandas as pd\n",
    "\n",
    "contact_details = pd.DataFrame({\n",
    "    'SALES_STAFF_CODE': ['S1', 'S2', 'S3', 'S4', 'S5'],\n",
    "    'WORK_PHONE': [1, 1, 0, 1, 0],\n",
    "    'EXTENSION': [123, 456, 789, 101, 112],\n",
    "    'FAX': [321, 654, 987, 101, 112],\n",
    "    'EMAIL': ['example1@123.com', 'example2@123.com', 'example3@123.com', 'example4@123.com', 'example5@123.com']\n",
    "})\n",
    "\n",
    "\n",
    "top_5_contact_details = contact_details.head(5)\n",
    "\n",
    "first_language_list = ['EN'] * 5\n",
    "\n",
    "first_language_series = pd.Series(first_language_list, name='FIRST_LANGUAGE')\n",
    "\n",
    "updated_contact_details = pd.concat([top_5_contact_details, first_language_series], axis=1)\n",
    "\n",
    "print(updated_contact_details)\n"
   ]
  },
  {
   "cell_type": "markdown",
   "metadata": {},
   "source": [
    "Maak nu de tweede kolom ('SECOND_LANGUAGE'). Maak daarvoor een dictionary, met daarin...\n",
    "- Als keys: alle indexen uit het resultaat van het vorige codeblok.\n",
    "- Als values: bij de eerste 3 elementen 'FR' (Frankrijk), bij de laatste 2 'DE' (Duitsland).\n",
    "\n",
    "Maak vervolgens ook hier weer een serie van en voeg ook deze weer horizontaal samen met het rsultaat van de vorige opdracht.<br>\n",
    "Vergeet niet een passende naam te geven aan de nieuw ontstane kolom."
   ]
  },
  {
   "cell_type": "code",
   "execution_count": null,
   "metadata": {},
   "outputs": [
    {
     "name": "stdout",
     "output_type": "stream",
     "text": [
      "  SALES_STAFF_CODE  WORK_PHONE  EXTENSION  FAX             EMAIL  \\\n",
      "0               S1           1        123  321  example1@123.com   \n",
      "1               S2           1        456  654  example2@123.com   \n",
      "2               S3           0        789  987  example3@123.com   \n",
      "3               S4           1        101  101  example4@123.com   \n",
      "4               S5           0        112  112  example5@123.com   \n",
      "\n",
      "  FIRST_LANGUAGE SECOND_LANGUAGE  \n",
      "0             EN              FR  \n",
      "1             EN              FR  \n",
      "2             EN              FR  \n",
      "3             EN              DE  \n",
      "4             EN              DE  \n"
     ]
    }
   ],
   "source": [
    "import pandas as pd\n",
    "\n",
    "contact_details = pd.DataFrame({\n",
    "    'SALES_STAFF_CODE': ['S1', 'S2', 'S3', 'S4', 'S5'],\n",
    "    'WORK_PHONE': [1, 1, 0, 1, 0],\n",
    "    'EXTENSION': [123, 456, 789, 101, 112],\n",
    "    'FAX': [321, 654, 987, 101, 112],\n",
    "    'EMAIL': ['example1@123.com', 'example2@123.com', 'example3@123.com', 'example4@123.com', 'example5@123.com']\n",
    "})\n",
    "\n",
    "top_5_contact_details = contact_details.head(5)\n",
    "first_language_list = ['EN'] * 5\n",
    "first_language_series = pd.Series(first_language_list, name='FIRST_LANGUAGE')\n",
    "updated_contact_details = pd.concat([top_5_contact_details, first_language_series], axis=1)\n",
    "\n",
    "\n",
    "top_5_contact_details = updated_contact_details.head(5)\n",
    "\n",
    "second_language_dict = {\n",
    "    0: 'FR',\n",
    "    1: 'FR',\n",
    "    2: 'FR',\n",
    "    3: 'DE',\n",
    "    4: 'DE'\n",
    "}\n",
    "\n",
    "second_language_series = pd.Series(second_language_dict, name='SECOND_LANGUAGE')\n",
    "\n",
    "new_contact_details = pd.concat([top_5_contact_details, second_language_series], axis=1)\n",
    "\n",
    "print(new_contact_details)\n"
   ]
  },
  {
   "cell_type": "markdown",
   "metadata": {},
   "source": [
    "Maak ten slotte de derde kolom ('THIRD_LANGUAGE') door een dictionary te maken met daarin...\n",
    "- Als key: de naam van de nieuwe kolom. Zie je het verschil qua keys met de vorige opdracht?\n",
    "- Als waarde: een lijst met daarin 'NL', 'NL', 'JPN', 'JPN', 'KOR'.\n",
    "\n",
    "Converteer deze dictionary nu naar een DataFrame en voeg deze horizontaal samen met het resultaat van de vorige opdracht.<br>\n",
    "Waarom hoef je hierna de nieuw ontstane kolom geen passende naam meer te geven?"
   ]
  },
  {
   "cell_type": "code",
   "execution_count": 22,
   "metadata": {},
   "outputs": [
    {
     "name": "stdout",
     "output_type": "stream",
     "text": [
      "  SALES_STAFF_CODE  WORK_PHONE  EXTENSION  FAX             EMAIL  \\\n",
      "0               S1           1        123  321  example1@123.com   \n",
      "1               S2           1        456  654  example2@123.com   \n",
      "2               S3           0        789  987  example3@123.com   \n",
      "3               S4           1        101  101  example4@123.com   \n",
      "4               S5           0        112  112  example5@123.com   \n",
      "\n",
      "  FIRST_LANGUAGE SECOND_LANGUAGE THIRD_LANGUAGE  \n",
      "0             EN              FR             NL  \n",
      "1             EN              FR             NL  \n",
      "2             EN              FR            JPN  \n",
      "3             EN              DE            JPN  \n",
      "4             EN              DE            KOR  \n"
     ]
    }
   ],
   "source": [
    "import pandas as pd\n",
    "\n",
    "contact_details = pd.DataFrame({\n",
    "    'SALES_STAFF_CODE': ['S1', 'S2', 'S3', 'S4', 'S5'],\n",
    "    'WORK_PHONE': [1, 1, 0, 1, 0],\n",
    "    'EXTENSION': [123, 456, 789, 101, 112],\n",
    "    'FAX': [321, 654, 987, 101, 112],\n",
    "    'EMAIL': ['example1@123.com', 'example2@123.com', 'example3@123.com', 'example4@123.com', 'example5@123.com']\n",
    "})\n",
    "\n",
    "top_5_contact_details = contact_details.head(5)\n",
    "first_language_list = ['EN'] * 5\n",
    "first_language_series = pd.Series(first_language_list, name='FIRST_LANGUAGE')\n",
    "\n",
    "updated_contact_details = pd.concat([top_5_contact_details, first_language_series], axis=1)\n",
    "top_5_contact_details = updated_contact_details.head(5)\n",
    "second_language_dict = {\n",
    "    0: 'FR',\n",
    "    1: 'FR',\n",
    "    2: 'FR',\n",
    "    3: 'DE',\n",
    "    4: 'DE'\n",
    "}\n",
    "second_language_series = pd.Series(second_language_dict, name='SECOND_LANGUAGE')\n",
    "new_contact_details = pd.concat([top_5_contact_details, second_language_series], axis=1)\n",
    "\n",
    "\n",
    "third_language_dict = {'THIRD_LANGUAGE' : ['NL', 'NL','JPN','JPN','KOR']}\n",
    "third_language_series = pd.DataFrame(third_language_dict)\n",
    "\n",
    "final_contact_details = pd.concat([new_contact_details, third_language_series], axis=1)\n",
    "\n",
    "print(final_contact_details)\n",
    "\n"
   ]
  },
  {
   "cell_type": "markdown",
   "metadata": {},
   "source": [
    "## Data toevoegen"
   ]
  },
  {
   "cell_type": "markdown",
   "metadata": {},
   "source": [
    "### Rijen"
   ]
  },
  {
   "cell_type": "markdown",
   "metadata": {},
   "source": [
    "Gebruik de originele databasetabel *sales_staff*.<br>\n",
    "Voeg een extra rij toe met eigen invulling. Zorg ervoor dat de index netjes doorloopt.<br>\n",
    "Hulpvraag: welke waarde geef je nu aan axis?"
   ]
  },
  {
   "cell_type": "code",
   "execution_count": 26,
   "metadata": {},
   "outputs": [
    {
     "name": "stdout",
     "output_type": "stream",
     "text": [
      "  SALES_STAFF_CODE  WORK_PHONE  EXTENSION  FAX             EMAIL\n",
      "0               S1           1        123  321  example1@123.com\n",
      "1               S2           1        456  654  example2@123.com\n",
      "2               S3           0        789  987  example3@123.com\n",
      "3               S4           1        101  101  example4@123.com\n",
      "4               S5           0        112  112  example5@123.com\n",
      "5               S6           1        113  113   example6@123.nl\n"
     ]
    }
   ],
   "source": [
    "import pandas as pd\n",
    "\n",
    "sales_staff = pd.DataFrame({\n",
    "    'SALES_STAFF_CODE': ['S1', 'S2', 'S3', 'S4', 'S5'],\n",
    "    'WORK_PHONE': [1, 1, 0, 1, 0],\n",
    "    'EXTENSION': [123, 456, 789, 101, 112],\n",
    "    'FAX': [321, 654, 987, 101, 112],\n",
    "    'EMAIL': ['example1@123.com', 'example2@123.com', 'example3@123.com', 'example4@123.com', 'example5@123.com']\n",
    "})\n",
    "\n",
    "new_row = pd.DataFrame({\n",
    "    'SALES_STAFF_CODE': ['S6'],\n",
    "    'WORK_PHONE': [1],\n",
    "    'EXTENSION': [113],\n",
    "    'FAX': [113],\n",
    "    'EMAIL': ['example6@123.nl']\n",
    "})\n",
    "\n",
    "sales_staff = pd.concat([sales_staff, new_row], ignore_index=True)\n",
    "\n",
    "print(sales_staff)"
   ]
  },
  {
   "cell_type": "markdown",
   "metadata": {},
   "source": [
    "### Kolommen"
   ]
  },
  {
   "cell_type": "markdown",
   "metadata": {},
   "source": [
    "Voeg een kolom *FULL_NAME* toe die de waarden van *FIRST_NAME* en *LAST_NAME* achter elkaar zet, gescheiden door een spatie."
   ]
  },
  {
   "cell_type": "code",
   "execution_count": 35,
   "metadata": {},
   "outputs": [
    {
     "name": "stdout",
     "output_type": "stream",
     "text": [
      "  SALES_STAFF_CODE FIRST_NAME LAST_NAME  WORK_PHONE  EXTENSION  FAX  \\\n",
      "0               S1       John       Doe           1        123  321   \n",
      "1               S2       Jane     Smith           1        456  654   \n",
      "2               S3       Alex     Brown           0        789  987   \n",
      "\n",
      "              EMAIL   FULL_NAME  \n",
      "0  example1@123.com    John Doe  \n",
      "1  example2@123.com  Jane Smith  \n",
      "2  example3@123.com  Alex Brown  \n"
     ]
    }
   ],
   "source": [
    "import pandas as pd\n",
    "\n",
    "contact_details = pd.DataFrame({\n",
    "    'SALES_STAFF_CODE': ['S1', 'S2', 'S3'],\n",
    "    'FIRST_NAME': ['John', 'Jane', 'Alex'],\n",
    "    'LAST_NAME': ['Doe', 'Smith', 'Brown'],\n",
    "    'WORK_PHONE': [1, 1, 0],\n",
    "    'EXTENSION': [123, 456, 789],\n",
    "    'FAX': [321, 654, 987],\n",
    "    'EMAIL': ['example1@123.com', 'example2@123.com', 'example3@123.com']\n",
    "})\n",
    "\n",
    "contact_details['FULL_NAME'] = contact_details['FIRST_NAME'] + ' ' + contact_details['LAST_NAME']\n",
    "\n",
    "print (contact_details)"
   ]
  },
  {
   "cell_type": "markdown",
   "metadata": {},
   "source": [
    "## Data wijzigen"
   ]
  },
  {
   "cell_type": "markdown",
   "metadata": {},
   "source": [
    "### Datatypen"
   ]
  },
  {
   "cell_type": "markdown",
   "metadata": {},
   "source": [
    "Door het attribuut .dtypes van een DataFrame op te vragen krijg je een serie die per kolom het datatype weergeeft. Doe dit bij de originele databasetabel *sales_staff*"
   ]
  },
  {
   "cell_type": "code",
   "execution_count": 36,
   "metadata": {},
   "outputs": [
    {
     "name": "stdout",
     "output_type": "stream",
     "text": [
      "SALES_STAFF_CODE    object\n",
      "FIRST_NAME          object\n",
      "LAST_NAME           object\n",
      "WORK_PHONE           int64\n",
      "EXTENSION            int64\n",
      "FAX                  int64\n",
      "EMAIL               object\n",
      "dtype: object\n"
     ]
    }
   ],
   "source": [
    "import pandas as pd\n",
    "\n",
    "contact_details = pd.DataFrame({\n",
    "    'SALES_STAFF_CODE': ['S1', 'S2', 'S3'],\n",
    "    'FIRST_NAME': ['John', 'Jane', 'Alex'],\n",
    "    'LAST_NAME': ['Doe', 'Smith', 'Brown'],\n",
    "    'WORK_PHONE': [1, 1, 0],\n",
    "    'EXTENSION': [123, 456, 789],\n",
    "    'FAX': [321, 654, 987],\n",
    "    'EMAIL': ['example1@123.com', 'example2@123.com', 'example3@123.com']\n",
    "})\n",
    "\n",
    "data_types = contact_details.dtypes\n",
    "\n",
    "print(data_types)"
   ]
  },
  {
   "cell_type": "markdown",
   "metadata": {},
   "source": [
    "Hier valt op dat elke kolom het datatype 'object' heeft: Python leest dus alles als string. Wiskundige operaties zijn hierdoor niet mogelijk.<br>\n",
    "We kunnen proberen om kolommen met getallen, bijvoorbeeld de 'extension', te converteren naar een int. Zie onderstaande code."
   ]
  },
  {
   "cell_type": "code",
   "execution_count": 37,
   "metadata": {},
   "outputs": [
    {
     "data": {
      "text/plain": [
       "SALES_STAFF_CODE    object\n",
       "FIRST_NAME          object\n",
       "LAST_NAME           object\n",
       "WORK_PHONE           int64\n",
       "EXTENSION            int64\n",
       "FAX                  int64\n",
       "EMAIL               object\n",
       "FULL_NAME           object\n",
       "dtype: object"
      ]
     },
     "execution_count": 37,
     "metadata": {},
     "output_type": "execute_result"
    }
   ],
   "source": [
    "import pandas as pd\n",
    "\n",
    "contact_details = pd.DataFrame({\n",
    "    'SALES_STAFF_CODE': ['S1', 'S2', 'S3'],\n",
    "    'FIRST_NAME': ['John', 'Jane', 'Alex'],\n",
    "    'LAST_NAME': ['Doe', 'Smith', 'Brown'],\n",
    "    'WORK_PHONE': [1, 1, 0],\n",
    "    'EXTENSION': [123, 456, 789],\n",
    "    'FAX': [321, 654, 987],\n",
    "    'EMAIL': ['example1@123.com', 'example2@123.com', 'example3@123.com']\n",
    "})\n",
    "\n",
    "sales_staff['EXTENSION'] = sales_staff['EXTENSION'].astype(int)\n",
    "sales_staff.dtypes"
   ]
  },
  {
   "cell_type": "markdown",
   "metadata": {},
   "source": [
    "Dit lukt echter niet, omdat er in de kolom 'EXTENSION' lege waarden zitten die niet geconverteerd kunnen worden naar een int.<br>\n",
    "Wél kan je deze naar een float converteren, zie onderstaande code:"
   ]
  },
  {
   "cell_type": "code",
   "execution_count": 38,
   "metadata": {},
   "outputs": [
    {
     "data": {
      "text/plain": [
       "SALES_STAFF_CODE     object\n",
       "FIRST_NAME           object\n",
       "LAST_NAME            object\n",
       "WORK_PHONE            int64\n",
       "EXTENSION           float64\n",
       "FAX                   int64\n",
       "EMAIL                object\n",
       "FULL_NAME            object\n",
       "dtype: object"
      ]
     },
     "execution_count": 38,
     "metadata": {},
     "output_type": "execute_result"
    }
   ],
   "source": [
    "import pandas as pd\n",
    "\n",
    "contact_details = pd.DataFrame({\n",
    "    'SALES_STAFF_CODE': ['S1', 'S2', 'S3'],\n",
    "    'FIRST_NAME': ['John', 'Jane', 'Alex'],\n",
    "    'LAST_NAME': ['Doe', 'Smith', 'Brown'],\n",
    "    'WORK_PHONE': [1, 1, 0],\n",
    "    'EXTENSION': [123, 456, 789],\n",
    "    'FAX': [321, 654, 987],\n",
    "    'EMAIL': ['example1@123.com', 'example2@123.com', 'example3@123.com']\n",
    "})\n",
    "\n",
    "sales_staff['EXTENSION'] = sales_staff['EXTENSION'].astype(float)\n",
    "sales_staff.dtypes"
   ]
  },
  {
   "cell_type": "markdown",
   "metadata": {},
   "source": [
    "Als we in de rij van 'EXTENSION' kijken zien we dat de conversie van het datatype nu is gelukt.<br>\n",
    "Dit is <b>randvoorwaardelijk</b> voor het uitvoeren van wiskundige operaties.<br>"
   ]
  },
  {
   "cell_type": "markdown",
   "metadata": {},
   "source": [
    "### Rijen"
   ]
  },
  {
   "cell_type": "markdown",
   "metadata": {},
   "source": [
    "Zorg er nu voor dat bij alle extensions 1 wordt opgeteld."
   ]
  },
  {
   "cell_type": "code",
   "execution_count": null,
   "metadata": {},
   "outputs": [],
   "source": []
  },
  {
   "cell_type": "markdown",
   "metadata": {},
   "source": [
    "Elke 'Branch Manager' wordt nu 'General Manager'. Schrijf code zodat deze wijziging doorgevoerd wordt in het DataFrame."
   ]
  },
  {
   "cell_type": "code",
   "execution_count": null,
   "metadata": {},
   "outputs": [],
   "source": []
  },
  {
   "cell_type": "markdown",
   "metadata": {},
   "source": [
    "### Kolommen"
   ]
  },
  {
   "cell_type": "markdown",
   "metadata": {},
   "source": [
    "Verander de kolomnaam 'POSITION_EN' naar 'POSITION'."
   ]
  },
  {
   "cell_type": "code",
   "execution_count": null,
   "metadata": {},
   "outputs": [],
   "source": []
  },
  {
   "cell_type": "markdown",
   "metadata": {},
   "source": [
    "## Data verwijderen"
   ]
  },
  {
   "cell_type": "markdown",
   "metadata": {},
   "source": [
    "### Rijen"
   ]
  },
  {
   "cell_type": "markdown",
   "metadata": {},
   "source": [
    "De medewerkers op indexen 99, 100 en 101 hebben helaas ontslag genomen.<br>\n",
    "Verwijder de bijbehorende rijen uit het DataFrame. Gebruik slechts één keer de .drop()-methode."
   ]
  },
  {
   "cell_type": "code",
   "execution_count": null,
   "metadata": {},
   "outputs": [],
   "source": []
  },
  {
   "cell_type": "markdown",
   "metadata": {},
   "source": [
    "### Kolommen"
   ]
  },
  {
   "cell_type": "markdown",
   "metadata": {},
   "source": [
    "Faxen zijn inmiddels ouderwets: niemand gebruikt zijn/haar faxnummer nog.<br>\n",
    "Verwijder de bijbehorende kolom uit het DataFrame."
   ]
  },
  {
   "cell_type": "code",
   "execution_count": null,
   "metadata": {},
   "outputs": [],
   "source": []
  }
 ],
 "metadata": {
  "kernelspec": {
   "display_name": ".venv",
   "language": "python",
   "name": "python3"
  },
  "language_info": {
   "codemirror_mode": {
    "name": "ipython",
    "version": 3
   },
   "file_extension": ".py",
   "mimetype": "text/x-python",
   "name": "python",
   "nbconvert_exporter": "python",
   "pygments_lexer": "ipython3",
   "version": "3.13.2"
  }
 },
 "nbformat": 4,
 "nbformat_minor": 2
}
