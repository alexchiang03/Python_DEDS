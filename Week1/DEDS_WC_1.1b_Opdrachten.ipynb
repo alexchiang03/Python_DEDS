{
 "cells": [
  {
   "cell_type": "markdown",
   "metadata": {},
   "source": [
    "# Werkcollege-opdrachten Week 1.2"
   ]
  },
  {
   "cell_type": "markdown",
   "metadata": {},
   "source": [
    "## Voorbereiding"
   ]
  },
  {
   "cell_type": "markdown",
   "metadata": {},
   "source": [
    "Importeer in het codeblok hieronder de packages die worden gebruikt om data in te lezen. Geef er ook de gebruikelijke aliassen aan.<br>\n",
    "N.B.: de 2 reeds geschreven coderegels zorgen ervoor dat eventuele warnings, die code-outputs lelijker maken, uitgezet worden."
   ]
  },
  {
   "cell_type": "code",
   "execution_count": 1,
   "metadata": {},
   "outputs": [],
   "source": [
    "\n",
    "import warnings\n",
    "warnings.simplefilter('ignore')"
   ]
  },
  {
   "cell_type": "markdown",
   "metadata": {},
   "source": [
    "Zet de volgende bestanden in een makkelijk terug te vinden map:\n",
    "- go_sales_train.sqlite\n",
    "- go_crm_train.sqlite\n",
    "- go_staff_train.sqlite"
   ]
  },
  {
   "cell_type": "markdown",
   "metadata": {},
   "source": [
    "Bestudeer de bovenste 3 bestanden in DB Browser (SQLite), <a href=\"https://sqlitebrowser.org/dl/\">hier</a> te downloaden. Wat valt je op qua datatypen?<br>"
   ]
  },
  {
   "cell_type": "markdown",
   "metadata": {},
   "source": [
    "## Databasetabel inlezen"
   ]
  },
  {
   "cell_type": "markdown",
   "metadata": {},
   "source": [
    "Creëer een databaseconnectie met het bestand go_sales_train.sqlite."
   ]
  },
  {
   "cell_type": "code",
   "execution_count": 8,
   "metadata": {},
   "outputs": [],
   "source": [
    "import sqlite3\n",
    "\n",
    "conn = sqlite3.connect('go_sales_train.sqlite')"
   ]
  },
  {
   "cell_type": "markdown",
   "metadata": {},
   "source": [
    "<b>Let goed op:</b><br>\n",
    "Als je per ongeluk een verkeerde bestandsnaam ingeeft, maakt Python zélf een leeg databasebestand aan! Er ontstaat dan dus een nieuwe .sqlite, en dat is nadrukkelijk <u>niet de bedoeling.</u>"
   ]
  },
  {
   "cell_type": "markdown",
   "metadata": {},
   "source": [
    "Gebruik de onderstaande sql_query om te achterhalen welke databasetabellen in go_sales_train zitten."
   ]
  },
  {
   "cell_type": "code",
   "execution_count": 16,
   "metadata": {},
   "outputs": [
    {
     "name": "stdout",
     "output_type": "stream",
     "text": [
      "country\n",
      "order_details\n",
      "order_header\n",
      "order_method\n",
      "product\n",
      "product_line\n",
      "product_type\n",
      "retailer_site\n",
      "return_reason\n",
      "returned_item\n",
      "sales_branch\n",
      "sales_staff\n"
     ]
    }
   ],
   "source": [
    "sql_query = \"SELECT name FROM sqlite_master WHERE type='table';\"\n",
    "#Vul dit codeblok verder in\n",
    "conn = sqlite3.connect('go_sales_train.sqlite')\n",
    "cursor = conn.cursor()\n",
    "cursor.execute(sql_query)\n",
    "tables = cursor.fetchall()\n",
    "for table in tables:\n",
    "    print(table[0])\n"
   ]
  },
  {
   "cell_type": "markdown",
   "metadata": {},
   "source": [
    "Krijg je lege output? Dan heb je per ongeluk een leeg  databasebestand (.sqlite) aangemaakt.<br>\n",
    "Lees de informatie onder het kopje <u>Let goed op:</u> hierboven nog eens goed door."
   ]
  },
  {
   "cell_type": "markdown",
   "metadata": {},
   "source": [
    "Gebruik de gecreëerde databaseconnectie om de resultaten van de volgende query in een DataFrame te zetten:<br>\n",
    "*SELECT * FROM sales_staff* "
   ]
  },
  {
   "cell_type": "code",
   "execution_count": 4,
   "metadata": {},
   "outputs": [
    {
     "name": "stdout",
     "output_type": "stream",
     "text": [
      "   SALES_STAFF_CODE FIRST_NAME  LAST_NAME                   POSITION_EN  \\\n",
      "0                 4      Denis       Pagé                Branch Manager   \n",
      "1                 5  Élizabeth     Michel  Level 3 Sales Representative   \n",
      "2                 6      Émile   Clermont  Level 1 Sales Representative   \n",
      "3                 7    Étienne     Jauvin  Level 2 Sales Representative   \n",
      "4                12    Elsbeth  Wiesinger  Level 2 Sales Representative   \n",
      "\n",
      "          WORK_PHONE  EXTENSION                FAX                   EMAIL  \\\n",
      "0  +33 1 68 94 52 20      325.0  +33 1 68 94 56 60       DPage@grtd123.com   \n",
      "1  +33 1 68 94 52 20      336.0  +33 1 68 94 56 60     EMichel@grtd123.com   \n",
      "2  +33 1 68 94 52 20      378.0  +33 1 68 94 56 60   EClermont@grtd123.com   \n",
      "3  +33 1 68 94 52 20      398.0  +33 1 68 94 56 60     EJauvin@grtd123.com   \n",
      "4  +(49) 40 663 1990     1818.0  +(49) 40 663 4571  EWiesinger@grtd123.com   \n",
      "\n",
      "   DATE_HIRED  SALES_BRANCH_CODE  \n",
      "0  1996-11-03                  6  \n",
      "1  1995-06-08                  6  \n",
      "2  1998-04-07                  6  \n",
      "3  1997-08-16                  6  \n",
      "4  1997-02-27                 13  \n"
     ]
    }
   ],
   "source": [
    "import sqlite3\n",
    "import pandas as pd\n",
    "conn = sqlite3.connect('go_sales_train.sqlite')\n",
    "c = conn.cursor()\n",
    "sql_query = \"SELECT * FROM sales_staff\"\n",
    "c.execute(sql_query)\n",
    "rows = c.fetchall()\n",
    "\n",
    "\n",
    "column_names = [description[0] for description in c.description]\n",
    "\n",
    "sales_staff_df = pd.DataFrame(rows, columns=column_names)\n",
    "print(sales_staff_df.head())\n",
    "conn.close()\n"
   ]
  },
  {
   "cell_type": "markdown",
   "metadata": {},
   "source": [
    "## Datumkolommen"
   ]
  },
  {
   "cell_type": "markdown",
   "metadata": {},
   "source": [
    "Zoals je misschien al hebt gezien in DB Browser, zijn datums als TEXT opgeslagen, en niet als DATE, DATETIME o.i.d. Hier moeten we dus nog even \"typische datumkolommen\" van maken. Dat doen we met de volgende code:"
   ]
  },
  {
   "cell_type": "code",
   "execution_count": null,
   "metadata": {},
   "outputs": [
    {
     "ename": "NameError",
     "evalue": "name 'sales_staff' is not defined",
     "output_type": "error",
     "traceback": [
      "\u001b[1;31m---------------------------------------------------------------------------\u001b[0m",
      "\u001b[1;31mNameError\u001b[0m                                 Traceback (most recent call last)",
      "Cell \u001b[1;32mIn[21], line 3\u001b[0m\n\u001b[0;32m      1\u001b[0m \u001b[38;5;28;01mimport\u001b[39;00m\u001b[38;5;250m \u001b[39m\u001b[38;5;21;01mpandas\u001b[39;00m\u001b[38;5;250m \u001b[39m\u001b[38;5;28;01mas\u001b[39;00m\u001b[38;5;250m \u001b[39m\u001b[38;5;21;01mpd\u001b[39;00m\n\u001b[1;32m----> 3\u001b[0m sales_staff[\u001b[38;5;124m'\u001b[39m\u001b[38;5;124mDATE_HIRED\u001b[39m\u001b[38;5;124m'\u001b[39m] \u001b[38;5;241m=\u001b[39m pd\u001b[38;5;241m.\u001b[39mto_datetime(\u001b[43msales_staff\u001b[49m[\u001b[38;5;124m'\u001b[39m\u001b[38;5;124mDATE_HIRED\u001b[39m\u001b[38;5;124m'\u001b[39m])\n\u001b[0;32m      4\u001b[0m sales_staff\u001b[38;5;241m.\u001b[39mdtypes\n",
      "\u001b[1;31mNameError\u001b[0m: name 'sales_staff' is not defined"
     ]
    }
   ],
   "source": [
    "sales_staff['DATE_HIRED'] = pd.to_datetime(sales_staff['DATE_HIRED'])\n",
    "sales_staff.dtypes"
   ]
  },
  {
   "cell_type": "markdown",
   "metadata": {},
   "source": [
    "Als we hier het jaar uit willen halen, schrijven we:"
   ]
  },
  {
   "cell_type": "code",
   "execution_count": null,
   "metadata": {},
   "outputs": [],
   "source": [
    "pd.DatetimeIndex(sales_staff['DATE_HIRED']).quarter"
   ]
  },
  {
   "cell_type": "markdown",
   "metadata": {},
   "source": [
    "Deze zelfde syntax is te gebruiken voor het extraheren van kwartalen, maanden, weken en dagen. Probeer het maar eens!"
   ]
  },
  {
   "cell_type": "markdown",
   "metadata": {},
   "source": [
    "## DataFrames uitsplitsen en opbouwen met Series"
   ]
  },
  {
   "cell_type": "markdown",
   "metadata": {},
   "source": [
    "De volgende 5 kolommen hebben betrekking op de contactdetails van elke medewerker in dit DataFrame:\n",
    "- SALES_STAFF_CODE\n",
    "- WORK_PHONE\n",
    "- EXTENSION\n",
    "- FAX\n",
    "- EMAIL\n",
    "\n",
    "Maak van elk van deze 5 kolommen een serie."
   ]
  },
  {
   "cell_type": "code",
   "execution_count": 23,
   "metadata": {},
   "outputs": [
    {
     "data": {
      "text/html": [
       "<div>\n",
       "<style scoped>\n",
       "    .dataframe tbody tr th:only-of-type {\n",
       "        vertical-align: middle;\n",
       "    }\n",
       "\n",
       "    .dataframe tbody tr th {\n",
       "        vertical-align: top;\n",
       "    }\n",
       "\n",
       "    .dataframe thead th {\n",
       "        text-align: right;\n",
       "    }\n",
       "</style>\n",
       "<table border=\"1\" class=\"dataframe\">\n",
       "  <thead>\n",
       "    <tr style=\"text-align: right;\">\n",
       "      <th></th>\n",
       "      <th>SALES_STAFF_CODE</th>\n",
       "      <th>WORK_PHONE</th>\n",
       "      <th>EXTENSION</th>\n",
       "      <th>FAX</th>\n",
       "      <th>EMAIL</th>\n",
       "    </tr>\n",
       "  </thead>\n",
       "  <tbody>\n",
       "    <tr>\n",
       "      <th>0</th>\n",
       "      <td>S1</td>\n",
       "      <td>1</td>\n",
       "      <td>123</td>\n",
       "      <td>321</td>\n",
       "      <td>example1@123.com</td>\n",
       "    </tr>\n",
       "    <tr>\n",
       "      <th>1</th>\n",
       "      <td>S2</td>\n",
       "      <td>1</td>\n",
       "      <td>456</td>\n",
       "      <td>654</td>\n",
       "      <td>example2@123.com</td>\n",
       "    </tr>\n",
       "    <tr>\n",
       "      <th>2</th>\n",
       "      <td>S3</td>\n",
       "      <td>0</td>\n",
       "      <td>789</td>\n",
       "      <td>987</td>\n",
       "      <td>example3@123.com</td>\n",
       "    </tr>\n",
       "    <tr>\n",
       "      <th>3</th>\n",
       "      <td>S4</td>\n",
       "      <td>1</td>\n",
       "      <td>101</td>\n",
       "      <td>101</td>\n",
       "      <td>example4@123.com</td>\n",
       "    </tr>\n",
       "    <tr>\n",
       "      <th>4</th>\n",
       "      <td>S5</td>\n",
       "      <td>0</td>\n",
       "      <td>112</td>\n",
       "      <td>112</td>\n",
       "      <td>example5@123.com</td>\n",
       "    </tr>\n",
       "  </tbody>\n",
       "</table>\n",
       "</div>"
      ],
      "text/plain": [
       "  SALES_STAFF_CODE  WORK_PHONE  EXTENSION  FAX             EMAIL\n",
       "0               S1           1        123  321  example1@123.com\n",
       "1               S2           1        456  654  example2@123.com\n",
       "2               S3           0        789  987  example3@123.com\n",
       "3               S4           1        101  101  example4@123.com\n",
       "4               S5           0        112  112  example5@123.com"
      ]
     },
     "execution_count": 23,
     "metadata": {},
     "output_type": "execute_result"
    }
   ],
   "source": [
    "data =  {\n",
    "    'SALES_STAFF_CODE': ['S1', 'S2', 'S3', 'S4', 'S5'],\n",
    "    'WORK_PHONE': [1, 1, 0, 1, 0],\n",
    "    'EXTENSION': [123, 456, 789, 101, 112],\n",
    "    'FAX': [321, 654, 987, 101, 112],\n",
    "    'EMAIL': ['example1@123.com', 'example2@123.com', 'example3@123.com', 'example4@123.com', 'example5@123.com'],\n",
    "}\n",
    "data = pd.DataFrame(data)\n",
    "data"
   ]
  },
  {
   "cell_type": "markdown",
   "metadata": {},
   "source": [
    "Zet allevijf gecreëerde series als kolommen naast elkaar in een DataFrame (*contact_details*). Gebruik pd.concat(...)<br>\n",
    "Hulpvraag: welke waarde geef je aan de axis-parameter?"
   ]
  },
  {
   "cell_type": "code",
   "execution_count": 5,
   "metadata": {},
   "outputs": [
    {
     "name": "stdout",
     "output_type": "stream",
     "text": [
      "  SALES_STAFF_CODE  WORK_PHONE  EXTENSION  FAX             EMAIL  \\\n",
      "0               S1           1        123  321  example1@123.com   \n",
      "1               S2           1        456  654  example2@123.com   \n",
      "2               S3           0        789  987  example3@123.com   \n",
      "3               S4           1        101  101  example4@123.com   \n",
      "4               S5           0        112  112  example5@123.com   \n",
      "\n",
      "  SALES_STAFF_CODE  WORK_PHONE  EXTENSION  FAX             EMAIL  \n",
      "0               S1           1        123  321  example1@123.com  \n",
      "1               S2           1        456  654  example2@123.com  \n",
      "2               S3           0        789  987  example3@123.com  \n",
      "3               S4           1        101  101  example4@123.com  \n",
      "4               S5           0        112  112  example5@123.com  \n"
     ]
    }
   ],
   "source": [
    "data =  {\n",
    "    'SALES_STAFF_CODE': ['S1', 'S2', 'S3', 'S4', 'S5'],\n",
    "    'WORK_PHONE': [1, 1, 0, 1, 0],\n",
    "    'EXTENSION': [123, 456, 789, 101, 112],\n",
    "    'FAX': [321, 654, 987, 101, 112],\n",
    "    'EMAIL': ['example1@123.com', 'example2@123.com', 'example3@123.com', 'example4@123.com', 'example5@123.com'],\n",
    "}\n",
    "data = pd.DataFrame(data)\n",
    "\n",
    "sales_staff = data['SALES_STAFF_CODE']\n",
    "work_phone = data['WORK_PHONE']\n",
    "extension = data['EXTENSION']\n",
    "fax = data['FAX']\n",
    "email = data['EMAIL']\n",
    "\n",
    "contact_details = pd.concat([sales_staff, work_phone, extension, fax, email, data], axis=1)\n",
    "\n",
    "print(contact_details)"
   ]
  },
  {
   "cell_type": "markdown",
   "metadata": {},
   "source": [
    "## Series en DataFrames maken vanuit lists en dictionaries"
   ]
  },
  {
   "cell_type": "markdown",
   "metadata": {},
   "source": [
    "Met .head(*getal*) kan je de bovenste *getal* rijen van een tabel selecteren.<br>\n",
    "Selecteer op deze manier de bovenste 5 rijen van *contact_details*.<br>\n",
    "Sla dit resultaat op in een nieuw DataFrame."
   ]
  },
  {
   "cell_type": "code",
   "execution_count": 10,
   "metadata": {},
   "outputs": [
    {
     "name": "stdout",
     "output_type": "stream",
     "text": [
      "  SALES_STAFF_CODE  WORK_PHONE  EXTENSION  FAX             EMAIL  \\\n",
      "0               S1           1        123  321  example1@123.com   \n",
      "1               S2           1        456  654  example2@123.com   \n",
      "2               S3           0        789  987  example3@123.com   \n",
      "3               S4           1        101  101  example4@123.com   \n",
      "4               S5           0        112  112  example5@123.com   \n",
      "\n",
      "  SALES_STAFF_CODE  WORK_PHONE  EXTENSION  FAX             EMAIL  \n",
      "0               S1           1        123  321  example1@123.com  \n",
      "1               S2           1        456  654  example2@123.com  \n",
      "2               S3           0        789  987  example3@123.com  \n",
      "3               S4           1        101  101  example4@123.com  \n",
      "4               S5           0        112  112  example5@123.com  \n"
     ]
    }
   ],
   "source": [
    "data =  {\n",
    "    'SALES_STAFF_CODE': ['S1', 'S2', 'S3', 'S4', 'S5', 'S6'],\n",
    "    'WORK_PHONE': [1, 1, 0, 1, 0, 1],\n",
    "    'EXTENSION': [123, 456, 789, 101, 112, 113],\n",
    "    'FAX': [321, 654, 987, 101, 112, 113],\n",
    "    'EMAIL': ['example1@123.com', 'example2@123.com', 'example3@123.com', 'example4@123.com', 'example5@123.com', 'example6@123.com'],\n",
    "}\n",
    "data = pd.DataFrame(data)\n",
    "\n",
    "sales_staff = data['SALES_STAFF_CODE']\n",
    "work_phone = data['WORK_PHONE']\n",
    "extension = data['EXTENSION']\n",
    "fax = data['FAX']\n",
    "email = data['EMAIL']\n",
    "\n",
    "contact_details = pd.concat([sales_staff, work_phone, extension, fax, email, data], axis=1)\n",
    "\n",
    "top_5_contact_details = contact_details.head(5)\n",
    "\n",
    "print(top_5_contact_details)\n"
   ]
  },
  {
   "cell_type": "markdown",
   "metadata": {},
   "source": [
    "Aan deze 10 rijen met contactdetails willen we 3 kolommen toevoegen: 'FIRST_LANGUAGE', 'SECOND_LANGUAGE' & 'THIRD_LANGUAGE'.<br>\n",
    "Iedereens 'First Language' is Engels, afgekort 'EN'. Maak een lijst waarin 5x 'EN' staat.<br>\n",
    "Converteer deze lijst vervolgens naar een serie en voeg deze horizontaal samen met het resultaat van de vorige opdracht.<br>\n",
    "Vergeet niet een passende naam te geven aan de nieuw ontstane kolom."
   ]
  },
  {
   "cell_type": "code",
   "execution_count": 20,
   "metadata": {},
   "outputs": [
    {
     "name": "stdout",
     "output_type": "stream",
     "text": [
      "  SALES_STAFF_CODE  WORK_PHONE  EXTENSION  FAX             EMAIL  \\\n",
      "0               S1           1        123  321  example1@123.com   \n",
      "1               S2           1        456  654  example2@123.com   \n",
      "2               S3           0        789  987  example3@123.com   \n",
      "3               S4           1        101  101  example4@123.com   \n",
      "4               S5           0        112  112  example5@123.com   \n",
      "\n",
      "  FIRST_LANGUAGE  \n",
      "0             EN  \n",
      "1             EN  \n",
      "2             EN  \n",
      "3             EN  \n",
      "4             EN  \n"
     ]
    }
   ],
   "source": [
    "import pandas as pd\n",
    "\n",
    "contact_details = pd.DataFrame({\n",
    "    'SALES_STAFF_CODE': ['S1', 'S2', 'S3', 'S4', 'S5'],\n",
    "    'WORK_PHONE': [1, 1, 0, 1, 0],\n",
    "    'EXTENSION': [123, 456, 789, 101, 112],\n",
    "    'FAX': [321, 654, 987, 101, 112],\n",
    "    'EMAIL': ['example1@123.com', 'example2@123.com', 'example3@123.com', 'example4@123.com', 'example5@123.com']\n",
    "})\n",
    "\n",
    "\n",
    "top_5_contact_details = contact_details.head(5)\n",
    "\n",
    "first_language_list = ['EN'] * 5\n",
    "\n",
    "first_language_series = pd.Series(first_language_list, name='FIRST_LANGUAGE')\n",
    "\n",
    "updated_contact_details = pd.concat([top_5_contact_details, first_language_series], axis=1)\n",
    "\n",
    "print(updated_contact_details)\n"
   ]
  },
  {
   "cell_type": "markdown",
   "metadata": {},
   "source": [
    "Maak nu de tweede kolom ('SECOND_LANGUAGE'). Maak daarvoor een dictionary, met daarin...\n",
    "- Als keys: alle indexen uit het resultaat van het vorige codeblok.\n",
    "- Als values: bij de eerste 3 elementen 'FR' (Frankrijk), bij de laatste 2 'DE' (Duitsland).\n",
    "\n",
    "Maak vervolgens ook hier weer een serie van en voeg ook deze weer horizontaal samen met het rsultaat van de vorige opdracht.<br>\n",
    "Vergeet niet een passende naam te geven aan de nieuw ontstane kolom."
   ]
  },
  {
   "cell_type": "code",
   "execution_count": null,
   "metadata": {},
   "outputs": [
    {
     "name": "stdout",
     "output_type": "stream",
     "text": [
      "  SALES_STAFF_CODE  WORK_PHONE  EXTENSION  FAX             EMAIL  \\\n",
      "0               S1           1        123  321  example1@123.com   \n",
      "1               S2           1        456  654  example2@123.com   \n",
      "2               S3           0        789  987  example3@123.com   \n",
      "3               S4           1        101  101  example4@123.com   \n",
      "4               S5           0        112  112  example5@123.com   \n",
      "\n",
      "  FIRST_LANGUAGE SECOND_LANGUAGE  \n",
      "0             EN              FR  \n",
      "1             EN              FR  \n",
      "2             EN              FR  \n",
      "3             EN              DE  \n",
      "4             EN              DE  \n"
     ]
    }
   ],
   "source": [
    "import pandas as pd\n",
    "\n",
    "contact_details = pd.DataFrame({\n",
    "    'SALES_STAFF_CODE': ['S1', 'S2', 'S3', 'S4', 'S5'],\n",
    "    'WORK_PHONE': [1, 1, 0, 1, 0],\n",
    "    'EXTENSION': [123, 456, 789, 101, 112],\n",
    "    'FAX': [321, 654, 987, 101, 112],\n",
    "    'EMAIL': ['example1@123.com', 'example2@123.com', 'example3@123.com', 'example4@123.com', 'example5@123.com']\n",
    "})\n",
    "\n",
    "top_5_contact_details = contact_details.head(5)\n",
    "first_language_list = ['EN'] * 5\n",
    "first_language_series = pd.Series(first_language_list, name='FIRST_LANGUAGE')\n",
    "updated_contact_details = pd.concat([top_5_contact_details, first_language_series], axis=1)\n",
    "\n",
    "\n",
    "top_5_contact_details = updated_contact_details.head(5)\n",
    "\n",
    "second_language_dict = {\n",
    "    0: 'FR',\n",
    "    1: 'FR',\n",
    "    2: 'FR',\n",
    "    3: 'DE',\n",
    "    4: 'DE'\n",
    "}\n",
    "\n",
    "second_language_series = pd.Series(second_language_dict, name='SECOND_LANGUAGE')\n",
    "\n",
    "new_contact_details = pd.concat([top_5_contact_details, second_language_series], axis=1)\n",
    "\n",
    "print(new_contact_details)\n"
   ]
  },
  {
   "cell_type": "markdown",
   "metadata": {},
   "source": [
    "Maak ten slotte de derde kolom ('THIRD_LANGUAGE') door een dictionary te maken met daarin...\n",
    "- Als key: de naam van de nieuwe kolom. Zie je het verschil qua keys met de vorige opdracht?\n",
    "- Als waarde: een lijst met daarin 'NL', 'NL', 'JPN', 'JPN', 'KOR'.\n",
    "\n",
    "Converteer deze dictionary nu naar een DataFrame en voeg deze horizontaal samen met het resultaat van de vorige opdracht.<br>\n",
    "Waarom hoef je hierna de nieuw ontstane kolom geen passende naam meer te geven?"
   ]
  },
  {
   "cell_type": "code",
   "execution_count": 22,
   "metadata": {},
   "outputs": [
    {
     "name": "stdout",
     "output_type": "stream",
     "text": [
      "  SALES_STAFF_CODE  WORK_PHONE  EXTENSION  FAX             EMAIL  \\\n",
      "0               S1           1        123  321  example1@123.com   \n",
      "1               S2           1        456  654  example2@123.com   \n",
      "2               S3           0        789  987  example3@123.com   \n",
      "3               S4           1        101  101  example4@123.com   \n",
      "4               S5           0        112  112  example5@123.com   \n",
      "\n",
      "  FIRST_LANGUAGE SECOND_LANGUAGE THIRD_LANGUAGE  \n",
      "0             EN              FR             NL  \n",
      "1             EN              FR             NL  \n",
      "2             EN              FR            JPN  \n",
      "3             EN              DE            JPN  \n",
      "4             EN              DE            KOR  \n"
     ]
    }
   ],
   "source": [
    "import pandas as pd\n",
    "\n",
    "contact_details = pd.DataFrame({\n",
    "    'SALES_STAFF_CODE': ['S1', 'S2', 'S3', 'S4', 'S5'],\n",
    "    'WORK_PHONE': [1, 1, 0, 1, 0],\n",
    "    'EXTENSION': [123, 456, 789, 101, 112],\n",
    "    'FAX': [321, 654, 987, 101, 112],\n",
    "    'EMAIL': ['example1@123.com', 'example2@123.com', 'example3@123.com', 'example4@123.com', 'example5@123.com']\n",
    "})\n",
    "\n",
    "top_5_contact_details = contact_details.head(5)\n",
    "first_language_list = ['EN'] * 5\n",
    "first_language_series = pd.Series(first_language_list, name='FIRST_LANGUAGE')\n",
    "\n",
    "updated_contact_details = pd.concat([top_5_contact_details, first_language_series], axis=1)\n",
    "top_5_contact_details = updated_contact_details.head(5)\n",
    "second_language_dict = {\n",
    "    0: 'FR',\n",
    "    1: 'FR',\n",
    "    2: 'FR',\n",
    "    3: 'DE',\n",
    "    4: 'DE'\n",
    "}\n",
    "second_language_series = pd.Series(second_language_dict, name='SECOND_LANGUAGE')\n",
    "new_contact_details = pd.concat([top_5_contact_details, second_language_series], axis=1)\n",
    "\n",
    "\n",
    "third_language_dict = {'THIRD_LANGUAGE' : ['NL', 'NL','JPN','JPN','KOR']}\n",
    "third_language_series = pd.DataFrame(third_language_dict)\n",
    "\n",
    "final_contact_details = pd.concat([new_contact_details, third_language_series], axis=1)\n",
    "\n",
    "print(final_contact_details)\n",
    "\n"
   ]
  },
  {
   "cell_type": "markdown",
   "metadata": {},
   "source": [
    "## Data toevoegen"
   ]
  },
  {
   "cell_type": "markdown",
   "metadata": {},
   "source": [
    "### Rijen"
   ]
  },
  {
   "cell_type": "markdown",
   "metadata": {},
   "source": [
    "Gebruik de originele databasetabel *sales_staff*.<br>\n",
    "Voeg een extra rij toe met eigen invulling. Zorg ervoor dat de index netjes doorloopt.<br>\n",
    "Hulpvraag: welke waarde geef je nu aan axis?"
   ]
  },
  {
   "cell_type": "code",
   "execution_count": 26,
   "metadata": {},
   "outputs": [
    {
     "name": "stdout",
     "output_type": "stream",
     "text": [
      "  SALES_STAFF_CODE  WORK_PHONE  EXTENSION  FAX             EMAIL\n",
      "0               S1           1        123  321  example1@123.com\n",
      "1               S2           1        456  654  example2@123.com\n",
      "2               S3           0        789  987  example3@123.com\n",
      "3               S4           1        101  101  example4@123.com\n",
      "4               S5           0        112  112  example5@123.com\n",
      "5               S6           1        113  113   example6@123.nl\n"
     ]
    }
   ],
   "source": [
    "import pandas as pd\n",
    "\n",
    "sales_staff = pd.DataFrame({\n",
    "    'SALES_STAFF_CODE': ['S1', 'S2', 'S3', 'S4', 'S5'],\n",
    "    'WORK_PHONE': [1, 1, 0, 1, 0],\n",
    "    'EXTENSION': [123, 456, 789, 101, 112],\n",
    "    'FAX': [321, 654, 987, 101, 112],\n",
    "    'EMAIL': ['example1@123.com', 'example2@123.com', 'example3@123.com', 'example4@123.com', 'example5@123.com']\n",
    "})\n",
    "\n",
    "new_row = pd.DataFrame({\n",
    "    'SALES_STAFF_CODE': ['S6'],\n",
    "    'WORK_PHONE': [1],\n",
    "    'EXTENSION': [113],\n",
    "    'FAX': [113],\n",
    "    'EMAIL': ['example6@123.nl']\n",
    "})\n",
    "\n",
    "sales_staff = pd.concat([sales_staff, new_row], ignore_index=True)\n",
    "\n",
    "print(sales_staff)"
   ]
  },
  {
   "cell_type": "markdown",
   "metadata": {},
   "source": [
    "### Kolommen"
   ]
  },
  {
   "cell_type": "markdown",
   "metadata": {},
   "source": [
    "Voeg een kolom *FULL_NAME* toe die de waarden van *FIRST_NAME* en *LAST_NAME* achter elkaar zet, gescheiden door een spatie."
   ]
  },
  {
   "cell_type": "code",
   "execution_count": 35,
   "metadata": {},
   "outputs": [
    {
     "name": "stdout",
     "output_type": "stream",
     "text": [
      "  SALES_STAFF_CODE FIRST_NAME LAST_NAME  WORK_PHONE  EXTENSION  FAX  \\\n",
      "0               S1       John       Doe           1        123  321   \n",
      "1               S2       Jane     Smith           1        456  654   \n",
      "2               S3       Alex     Brown           0        789  987   \n",
      "\n",
      "              EMAIL   FULL_NAME  \n",
      "0  example1@123.com    John Doe  \n",
      "1  example2@123.com  Jane Smith  \n",
      "2  example3@123.com  Alex Brown  \n"
     ]
    }
   ],
   "source": [
    "import pandas as pd\n",
    "\n",
    "contact_details = pd.DataFrame({\n",
    "    'SALES_STAFF_CODE': ['S1', 'S2', 'S3'],\n",
    "    'FIRST_NAME': ['John', 'Jane', 'Alex'],\n",
    "    'LAST_NAME': ['Doe', 'Smith', 'Brown'],\n",
    "    'WORK_PHONE': [1, 1, 0],\n",
    "    'EXTENSION': [123, 456, 789],\n",
    "    'FAX': [321, 654, 987],\n",
    "    'EMAIL': ['example1@123.com', 'example2@123.com', 'example3@123.com']\n",
    "})\n",
    "\n",
    "contact_details['FULL_NAME'] = contact_details['FIRST_NAME'] + ' ' + contact_details['LAST_NAME']\n",
    "\n",
    "print (contact_details)"
   ]
  },
  {
   "cell_type": "markdown",
   "metadata": {},
   "source": [
    "## Data wijzigen"
   ]
  },
  {
   "cell_type": "markdown",
   "metadata": {},
   "source": [
    "### Datatypen"
   ]
  },
  {
   "cell_type": "markdown",
   "metadata": {},
   "source": [
    "Door het attribuut .dtypes van een DataFrame op te vragen krijg je een serie die per kolom het datatype weergeeft. Doe dit bij de originele databasetabel *sales_staff*"
   ]
  },
  {
   "cell_type": "code",
   "execution_count": 36,
   "metadata": {},
   "outputs": [
    {
     "name": "stdout",
     "output_type": "stream",
     "text": [
      "SALES_STAFF_CODE    object\n",
      "FIRST_NAME          object\n",
      "LAST_NAME           object\n",
      "WORK_PHONE           int64\n",
      "EXTENSION            int64\n",
      "FAX                  int64\n",
      "EMAIL               object\n",
      "dtype: object\n"
     ]
    }
   ],
   "source": [
    "import pandas as pd\n",
    "\n",
    "contact_details = pd.DataFrame({\n",
    "    'SALES_STAFF_CODE': ['S1', 'S2', 'S3'],\n",
    "    'FIRST_NAME': ['John', 'Jane', 'Alex'],\n",
    "    'LAST_NAME': ['Doe', 'Smith', 'Brown'],\n",
    "    'WORK_PHONE': [1, 1, 0],\n",
    "    'EXTENSION': [123, 456, 789],\n",
    "    'FAX': [321, 654, 987],\n",
    "    'EMAIL': ['example1@123.com', 'example2@123.com', 'example3@123.com']\n",
    "})\n",
    "\n",
    "data_types = contact_details.dtypes\n",
    "\n",
    "print(data_types)"
   ]
  },
  {
   "cell_type": "markdown",
   "metadata": {},
   "source": [
    "Hier valt op dat elke kolom het datatype 'object' heeft: Python leest dus alles als string. Wiskundige operaties zijn hierdoor niet mogelijk.<br>\n",
    "We kunnen proberen om kolommen met getallen, bijvoorbeeld de 'extension', te converteren naar een int. Zie onderstaande code."
   ]
  },
  {
   "cell_type": "code",
   "execution_count": 37,
   "metadata": {},
   "outputs": [
    {
     "data": {
      "text/plain": [
       "SALES_STAFF_CODE    object\n",
       "FIRST_NAME          object\n",
       "LAST_NAME           object\n",
       "WORK_PHONE           int64\n",
       "EXTENSION            int64\n",
       "FAX                  int64\n",
       "EMAIL               object\n",
       "FULL_NAME           object\n",
       "dtype: object"
      ]
     },
     "execution_count": 37,
     "metadata": {},
     "output_type": "execute_result"
    }
   ],
   "source": [
    "import pandas as pd\n",
    "\n",
    "contact_details = pd.DataFrame({\n",
    "    'SALES_STAFF_CODE': ['S1', 'S2', 'S3'],\n",
    "    'FIRST_NAME': ['John', 'Jane', 'Alex'],\n",
    "    'LAST_NAME': ['Doe', 'Smith', 'Brown'],\n",
    "    'WORK_PHONE': [1, 1, 0],\n",
    "    'EXTENSION': [123, 456, 789],\n",
    "    'FAX': [321, 654, 987],\n",
    "    'EMAIL': ['example1@123.com', 'example2@123.com', 'example3@123.com']\n",
    "})\n",
    "\n",
    "sales_staff['EXTENSION'] = sales_staff['EXTENSION'].astype(int)\n",
    "sales_staff.dtypes"
   ]
  },
  {
   "cell_type": "markdown",
   "metadata": {},
   "source": [
    "Dit lukt echter niet, omdat er in de kolom 'EXTENSION' lege waarden zitten die niet geconverteerd kunnen worden naar een int.<br>\n",
    "Wél kan je deze naar een float converteren, zie onderstaande code:"
   ]
  },
  {
   "cell_type": "code",
   "execution_count": 9,
   "metadata": {},
   "outputs": [
    {
     "data": {
      "text/plain": [
       "SALES_STAFF_CODE     object\n",
       "FIRST_NAME           object\n",
       "LAST_NAME            object\n",
       "WORK_PHONE            int64\n",
       "EXTENSION           float64\n",
       "FAX                   int64\n",
       "EMAIL                object\n",
       "dtype: object"
      ]
     },
     "execution_count": 9,
     "metadata": {},
     "output_type": "execute_result"
    }
   ],
   "source": [
    "import pandas as pd\n",
    "\n",
    "contact_details = pd.DataFrame({\n",
    "    'SALES_STAFF_CODE': ['S1', 'S2', 'S3'],\n",
    "    'FIRST_NAME': ['John', 'Jane', 'Alex'],\n",
    "    'LAST_NAME': ['Doe', 'Smith', 'Brown'],\n",
    "    'WORK_PHONE': [1, 1, 0],\n",
    "    'EXTENSION': [123, 456, 789],\n",
    "    'FAX': [321, 654, 987],\n",
    "    'EMAIL': ['example1@123.com', 'example2@123.com', 'example3@123.com']\n",
    "})\n",
    "\n",
    "contact_details['EXTENSION'] = contact_details['EXTENSION'].astype(float)\n",
    "contact_details.dtypes"
   ]
  },
  {
   "cell_type": "markdown",
   "metadata": {},
   "source": [
    "Als we in de rij van 'EXTENSION' kijken zien we dat de conversie van het datatype nu is gelukt.<br>\n",
    "Dit is <b>randvoorwaardelijk</b> voor het uitvoeren van wiskundige operaties.<br>"
   ]
  },
  {
   "cell_type": "markdown",
   "metadata": {},
   "source": [
    "### Rijen"
   ]
  },
  {
   "cell_type": "markdown",
   "metadata": {},
   "source": [
    "Zorg er nu voor dat bij alle extensions 1 wordt opgeteld."
   ]
  },
  {
   "cell_type": "code",
   "execution_count": 3,
   "metadata": {},
   "outputs": [
    {
     "name": "stdout",
     "output_type": "stream",
     "text": [
      "  SALES_STAFF_CODE FIRST_NAME LAST_NAME  WORK_PHONE  EXTENSION  FAX  \\\n",
      "0               S1       John       Doe           1        124  321   \n",
      "1               S2       Jane     Smith           1        457  654   \n",
      "2               S3       Alex     Brown           0        790  987   \n",
      "\n",
      "              EMAIL  \n",
      "0  example1@123.com  \n",
      "1  example2@123.com  \n",
      "2  example3@123.com  \n"
     ]
    }
   ],
   "source": [
    "import pandas as pd\n",
    "\n",
    "contact_details = pd.DataFrame({\n",
    "    'SALES_STAFF_CODE': ['S1', 'S2', 'S3'],\n",
    "    'FIRST_NAME': ['John', 'Jane', 'Alex'],\n",
    "    'LAST_NAME': ['Doe', 'Smith', 'Brown'],\n",
    "    'WORK_PHONE': [1, 1, 0],\n",
    "    'EXTENSION': [123, 456, 789],\n",
    "    'FAX': [321, 654, 987],\n",
    "    'EMAIL': ['example1@123.com', 'example2@123.com', 'example3@123.com']\n",
    "})\n",
    "\n",
    "contact_details['EXTENSION'] = contact_details['EXTENSION'] + 1\n",
    "\n",
    "print(contact_details)"
   ]
  },
  {
   "cell_type": "markdown",
   "metadata": {},
   "source": [
    "Elke 'Branch Manager' wordt nu 'General Manager'. Schrijf code zodat deze wijziging doorgevoerd wordt in het DataFrame."
   ]
  },
  {
   "cell_type": "code",
   "execution_count": 10,
   "metadata": {},
   "outputs": [
    {
     "name": "stdout",
     "output_type": "stream",
     "text": [
      "  SALES_STAFF_CODE             ROLE           EMAIL\n",
      "0               S1  General Manager  s1@example.com\n",
      "1               S2  Sales Executive  s2@example.com\n",
      "2               S3  General Manager  s3@example.com\n",
      "3               S4  Sales Associate  s4@example.com\n"
     ]
    }
   ],
   "source": [
    "import pandas as pd\n",
    "\n",
    "sales_staff = pd.DataFrame({\n",
    "    'SALES_STAFF_CODE': ['S1', 'S2', 'S3', 'S4'],\n",
    "    'ROLE': ['Branch Manager', 'Sales Executive', 'Branch Manager', 'Sales Associate'],\n",
    "    'EMAIL': ['s1@example.com', 's2@example.com', 's3@example.com', 's4@example.com']\n",
    "})\n",
    "\n",
    "sales_staff['ROLE'] = sales_staff['ROLE'].replace('Branch Manager', 'General Manager')\n",
    "\n",
    "print(sales_staff)\n"
   ]
  },
  {
   "cell_type": "markdown",
   "metadata": {},
   "source": [
    "### Kolommen"
   ]
  },
  {
   "cell_type": "markdown",
   "metadata": {},
   "source": [
    "Verander de kolomnaam 'POSITION_EN' naar 'POSITION'."
   ]
  },
  {
   "cell_type": "code",
   "execution_count": 11,
   "metadata": {},
   "outputs": [
    {
     "name": "stdout",
     "output_type": "stream",
     "text": [
      "  SALES_STAFF_CODE         POSITION           EMAIL\n",
      "0               S1   Branch Manager  s1@example.com\n",
      "1               S2  Sales Executive  s2@example.com\n",
      "2               S3  Sales Associate  s3@example.com\n"
     ]
    }
   ],
   "source": [
    "import pandas as pd\n",
    "\n",
    "sales_staff = pd.DataFrame({\n",
    "    'SALES_STAFF_CODE': ['S1', 'S2', 'S3'],\n",
    "    'POSITION_EN': ['Branch Manager', 'Sales Executive', 'Sales Associate'],\n",
    "    'EMAIL': ['s1@example.com', 's2@example.com', 's3@example.com']\n",
    "})\n",
    "\n",
    "sales_staff = sales_staff.rename(columns={'POSITION_EN' : 'POSITION'})\n",
    "print(sales_staff)"
   ]
  },
  {
   "cell_type": "markdown",
   "metadata": {},
   "source": [
    "## Data verwijderen"
   ]
  },
  {
   "cell_type": "markdown",
   "metadata": {},
   "source": [
    "### Rijen"
   ]
  },
  {
   "cell_type": "markdown",
   "metadata": {},
   "source": [
    "De medewerkers op indexen 99, 100 en 101 hebben helaas ontslag genomen.<br>\n",
    "Verwijder de bijbehorende rijen uit het DataFrame. Gebruik slechts één keer de .drop()-methode."
   ]
  },
  {
   "cell_type": "code",
   "execution_count": 14,
   "metadata": {},
   "outputs": [
    {
     "name": "stdout",
     "output_type": "stream",
     "text": [
      "    SALES_STAFF_CODE  POSITION             EMAIL\n",
      "0                 S1  Employee    s1@example.com\n",
      "1                 S2  Employee    s2@example.com\n",
      "2                 S3  Employee    s3@example.com\n",
      "3                 S4  Employee    s4@example.com\n",
      "4                 S5  Employee    s5@example.com\n",
      "..               ...       ...               ...\n",
      "96               S97  Employee   s97@example.com\n",
      "97               S98  Employee   s98@example.com\n",
      "98               S99  Employee   s99@example.com\n",
      "102             S103  Employee  s103@example.com\n",
      "103             S104  Employee  s104@example.com\n",
      "\n",
      "[101 rows x 3 columns]\n"
     ]
    }
   ],
   "source": [
    "import pandas as pd\n",
    "\n",
    "sales_staff = pd.DataFrame({\n",
    "    'SALES_STAFF_CODE': [f'S{i}' for i in range(1, 105)],\n",
    "    'POSITION': ['Employee'] * 104,\n",
    "    'EMAIL': [f's{i}@example.com' for i in range(1, 105)]\n",
    "})\n",
    "\n",
    "sales_staff = sales_staff.drop(index={99,100,101})\n",
    "\n",
    "print(sales_staff)"
   ]
  },
  {
   "cell_type": "markdown",
   "metadata": {},
   "source": [
    "### Kolommen"
   ]
  },
  {
   "cell_type": "markdown",
   "metadata": {},
   "source": [
    "Faxen zijn inmiddels ouderwets: niemand gebruikt zijn/haar faxnummer nog.<br>\n",
    "Verwijder de bijbehorende kolom uit het DataFrame."
   ]
  },
  {
   "cell_type": "code",
   "execution_count": 15,
   "metadata": {},
   "outputs": [
    {
     "name": "stdout",
     "output_type": "stream",
     "text": [
      "  SALES_STAFF_CODE   POSITION           EMAIL\n",
      "0               S1    Manager  s1@example.com\n",
      "1               S2  Executive  s2@example.com\n",
      "2               S3  Associate  s3@example.com\n"
     ]
    }
   ],
   "source": [
    "import pandas as pd\n",
    "\n",
    "sales_staff = pd.DataFrame({\n",
    "    'SALES_STAFF_CODE': ['S1', 'S2', 'S3'],\n",
    "    'POSITION': ['Manager', 'Executive', 'Associate'],\n",
    "    'FAX': [123456, 789101, 112131],\n",
    "    'EMAIL': ['s1@example.com', 's2@example.com', 's3@example.com']\n",
    "})\n",
    "\n",
    "sales_staff = sales_staff.drop(columns=['FAX'])\n",
    "\n",
    "print(sales_staff)"
   ]
  }
 ],
 "metadata": {
  "kernelspec": {
   "display_name": ".venv",
   "language": "python",
   "name": "python3"
  },
  "language_info": {
   "codemirror_mode": {
    "name": "ipython",
    "version": 3
   },
   "file_extension": ".py",
   "mimetype": "text/x-python",
   "name": "python",
   "nbconvert_exporter": "python",
   "pygments_lexer": "ipython3",
   "version": "3.13.2"
  }
 },
 "nbformat": 4,
 "nbformat_minor": 2
}
