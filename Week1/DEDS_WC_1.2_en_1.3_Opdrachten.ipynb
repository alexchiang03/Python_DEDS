{
 "cells": [
  {
   "cell_type": "markdown",
   "metadata": {},
   "source": [
    "# Werkcollege-opdrachten Week 1.3"
   ]
  },
  {
   "cell_type": "markdown",
   "metadata": {},
   "source": [
    "## Dependencies importeren"
   ]
  },
  {
   "cell_type": "markdown",
   "metadata": {},
   "source": [
    "Kopieer in het codeblok hieronder van het vorige practicum de import-code voor de dependencies die het vaakst worden gebruikt om data in te lezen. Geef er ook de gebruikelijke aliassen aan.<br>\n",
    "Zet eventuele warnings uit."
   ]
  },
  {
   "cell_type": "code",
   "execution_count": null,
   "metadata": {},
   "outputs": [],
   "source": [
    "import pandas as pd\n",
    "import warnings\n",
    "import sqlite3\n",
    "\n",
    "warnings.filterwarnings('ignore')"
   ]
  },
  {
   "cell_type": "markdown",
   "metadata": {},
   "source": [
    "Zet het bestand go_sales_train.sqlite in een makkelijk te vinden map"
   ]
  },
  {
   "cell_type": "markdown",
   "metadata": {},
   "source": [
    "## Databasetabellen inlezen"
   ]
  },
  {
   "cell_type": "markdown",
   "metadata": {},
   "source": [
    "Kopieer in het codeblok hieronder van het vorige practicum de code om een connectie met het bestand go_sales_train.sqlite te maken."
   ]
  },
  {
   "cell_type": "code",
   "execution_count": 2,
   "metadata": {},
   "outputs": [],
   "source": [
    "import sqlite3\n",
    "conn = sqlite3.connect('go_sales_train.sqlite')"
   ]
  },
  {
   "cell_type": "markdown",
   "metadata": {},
   "source": [
    "Lees van de ingelezen go_sales_train-database te volgende tabellen in met behulp van \"SELECT * FROM *tabel*\".\n",
    "- product\n",
    "- product_type\n",
    "- product_line\n",
    "- sales_staff\n",
    "- sales_branch\n",
    "- retailer_site\n",
    "- country\n",
    "- order_header\n",
    "- order_details\n",
    "- returned_item\n",
    "- return_reason"
   ]
  },
  {
   "cell_type": "code",
   "execution_count": 8,
   "metadata": {},
   "outputs": [
    {
     "name": "stdout",
     "output_type": "stream",
     "text": [
      "   PRODUCT_NUMBER INTRODUCTION_DATE  PRODUCT_TYPE_CODE  PRODUCTION_COST  \\\n",
      "0               1        1995-02-15                  1             4.00   \n",
      "1               2        1995-02-15                  1             9.22   \n",
      "2               3        1995-02-15                  1            15.93   \n",
      "3               4        1995-02-15                  1             5.00   \n",
      "4               5        1995-02-15                  1            34.97   \n",
      "\n",
      "   MARGIN  PRODUCT_IMAGE LANGUAGE           PRODUCT_NAME  \\\n",
      "0    0.33  P01CE1CG1.jpg       EN    TrailChef Water Bag   \n",
      "1    0.23  P02CE1CG1.jpg       EN      TrailChef Canteen   \n",
      "2    0.28  P03CE1CG1.jpg       EN  TrailChef Kitchen Kit   \n",
      "3    0.28  P04CE1CG1.jpg       EN          TrailChef Cup   \n",
      "4    0.30  P05CE1CG1.jpg       EN     TrailChef Cook Set   \n",
      "\n",
      "                                         DESCRIPTION  \n",
      "0  Lightweight, collapsible bag to carry liquids ...  \n",
      "1  Aluminum canteen. Rugged fleece-lined cover wi...  \n",
      "2  Zippered nylon pouch contains cutlery for two,...  \n",
      "3            Tin cup. Holds 0.4 liters. Weight: 60 g  \n",
      "4  All you will ever need on the trail.  Pot grip...  \n"
     ]
    }
   ],
   "source": [
    "import sqlite3\n",
    "import pandas as pd\n",
    "import warnings\n",
    "warnings.filterwarnings('ignore')\n",
    "\n",
    "conn = sqlite3.connect('go_sales_train.sqlite')\n",
    "cursor = conn.cursor()\n",
    "\n",
    "tables = [\n",
    "    'product', 'product_type', 'product_line',\n",
    "    'sales_staff', 'sales_branch', 'retailer_site',\n",
    "    'country', 'order_header', 'order_details',\n",
    "    'returned_item', 'return_reason'\n",
    "]\n",
    "\n",
    "dataframes = {}\n",
    "for table in tables:\n",
    "    query = f\"SELECT * FROM {table}\"\n",
    "    dataframes[table] = pd.read_sql_query(query, conn)\n",
    "conn.close()\n",
    "\n",
    "print(dataframes['product'].head())\n"
   ]
  },
  {
   "cell_type": "markdown",
   "metadata": {},
   "source": [
    "Krijg je een \"no such table\" error? Dan heb je misschien met .connect() per ongeluk een leeg  databasebestand (.sqlite) aangemaakt. <u>Let op:</u> lees eventueel de informatie uit het Notebook van werkcollege 1.1b nog eens goed door."
   ]
  },
  {
   "cell_type": "markdown",
   "metadata": {},
   "source": [
    "Als je tijdens onderstaande opdrachten uit het oog verliest welke tabellen er allemaal zijn, kan je deze Pythoncode uitvoeren:"
   ]
  },
  {
   "cell_type": "code",
   "execution_count": null,
   "metadata": {},
   "outputs": [],
   "source": [
    "sql_query = \"SELECT name FROM sqlite_master WHERE type='table';\"\n",
    "#Vul dit codeblok verder in\n",
    "pd.read_sql(sql_query, ...)\n",
    "#Op de puntjes hoort de connectie naar go_sales_train óf go_staff_train óf go_crm_train te staan."
   ]
  },
  {
   "cell_type": "markdown",
   "metadata": {},
   "source": [
    "erachter "
   ]
  },
  {
   "cell_type": "markdown",
   "metadata": {},
   "source": [
    "Let op! Voor alle onderstaande opdrachten mag je <u>alleen Python</u> gebruiken, <u>geen SQL!</u>"
   ]
  },
  {
   "cell_type": "markdown",
   "metadata": {},
   "source": [
    "## Selecties op één tabel zonder functies"
   ]
  },
  {
   "cell_type": "markdown",
   "metadata": {},
   "source": [
    "Geef een overzicht met daarin de producten en hun productiekosten waarvan de productiekosten lager dan 100 dollar en hoger dan 50 dollar ligt. (2 kolommen, 23 rijen)"
   ]
  },
  {
   "cell_type": "code",
   "execution_count": 12,
   "metadata": {},
   "outputs": [
    {
     "name": "stdout",
     "output_type": "stream",
     "text": [
      "                        PRODUCT_NAME  PRODUCTION_COST\n",
      "5          TrailChef Deluxe Cook Set            85.11\n",
      "7             TrailChef Double Flame            75.00\n",
      "16                   Hibernator Lite            60.00\n",
      "17                        Hibernator            86.00\n",
      "19   Hibernator Self - Inflating Mat            78.55\n",
      "22               Hibernator Camp Cot            65.33\n",
      "23      Canyon Mule Climber Backpack            62.50\n",
      "45           Granite Climbing Helmet            52.86\n",
      "47             Husky Harness Extreme            55.00\n",
      "57                    Granite Hammer            57.13\n",
      "68                         Polar Ice            73.33\n",
      "69                      Polar Sports            80.00\n",
      "70                        Polar Wave            60.00\n",
      "71                     Polar Extreme            72.50\n",
      "74                      Edge Extreme            80.00\n",
      "77                         Seeker 35            79.19\n",
      "78                         Seeker 50            92.58\n",
      "79                    Seeker Extreme            94.12\n",
      "82                    Glacier Deluxe            56.25\n",
      "83                       Glacier GPS            78.55\n",
      "109                Blue Steel Putter            60.00\n",
      "110            Blue Steel Max Putter            81.80\n",
      "113              Course Pro Golf Bag            80.00\n"
     ]
    }
   ],
   "source": [
    "import sqlite3\n",
    "import pandas as pd\n",
    "\n",
    "conn = sqlite3.connect('go_sales_train.sqlite')\n",
    "\n",
    "query = \"SELECT * FROM product\"\n",
    "product_df = pd.read_sql_query(query, conn)\n",
    "\n",
    "conn.close()\n",
    "\n",
    "filtered_product = product_df[(product_df['PRODUCTION_COST'] > 50) \n",
    "                              & (product_df['PRODUCTION_COST'] < 100)]\n",
    "\n",
    "result = filtered_product[['PRODUCT_NAME', 'PRODUCTION_COST']]\n",
    "\n",
    "if result.shape[0] >= 23:\n",
    "    result = result.head(23)\n",
    "else:\n",
    "    result = result\n",
    "\n",
    "print(result)"
   ]
  },
  {
   "cell_type": "markdown",
   "metadata": {},
   "source": [
    "Geef een overzicht met daarin de producten en hun marge waarvan de marge lager dan 20 % of hoger dan 60 % ligt. (2 kolommen, 7 rijen) "
   ]
  },
  {
   "cell_type": "code",
   "execution_count": 14,
   "metadata": {},
   "outputs": [
    {
     "name": "stdout",
     "output_type": "stream",
     "text": [
      "                PRODUCT_NAME  MARGIN\n",
      "0        TrailChef Water Bag    0.33\n",
      "1          TrailChef Canteen    0.23\n",
      "2      TrailChef Kitchen Kit    0.28\n",
      "3              TrailChef Cup    0.28\n",
      "4         TrailChef Cook Set    0.30\n",
      "5  TrailChef Deluxe Cook Set    0.28\n",
      "6     TrailChef Single Flame    0.28\n"
     ]
    }
   ],
   "source": [
    "import sqlite3\n",
    "import pandas as pd\n",
    "\n",
    "conn = sqlite3.connect('go_sales_train.sqlite')\n",
    "\n",
    "query = \"SELECT * FROM product\"\n",
    "product_df = pd.read_sql_query(query, conn)\n",
    "\n",
    "filtered_product = product_df[(product_df['MARGIN'] < 20) \n",
    "                              | (product_df['MARGIN'] > 60)]\n",
    "\n",
    "result_margin = filtered_product[['PRODUCT_NAME', 'MARGIN']]\n",
    "\n",
    "if result_margin.shape[0] >= 23:\n",
    "    result_margin = result_margin.head(7)\n",
    "else:\n",
    "    result_margin = result_margin\n",
    "\n",
    "print(result_margin)"
   ]
  },
  {
   "cell_type": "markdown",
   "metadata": {},
   "source": [
    "Geef een overzicht met daarin de landen waar met francs wordt betaald. Sorteer de uitkomst op land.  (1 kolom, 3 rijen)"
   ]
  },
  {
   "cell_type": "code",
   "execution_count": 30,
   "metadata": {},
   "outputs": [
    {
     "name": "stdout",
     "output_type": "stream",
     "text": [
      "        COUNTRY\n",
      "0        France\n",
      "7   Switzerland\n",
      "15      Belgium\n"
     ]
    }
   ],
   "source": [
    "import sqlite3\n",
    "import pandas as pd\n",
    "conn = sqlite3.connect(\"go_sales_train.sqlite\")\n",
    "\n",
    "query = 'SELECT * FROM country'\n",
    "product_df = pd.read_sql_query(query, conn)\n",
    "\n",
    "filtered_country = product_df[(product_df['CURRENCY_NAME'].str.lower() == 'francs')]\n",
    "\n",
    "result_country = filtered_country[['COUNTRY']]\n",
    "\n",
    "if result_country.shape[0] >= 3:\n",
    "    result_country = result_country.head(3)\n",
    "else:\n",
    "    result_country = result_country\n",
    "\n",
    "print(result_country)\n",
    "    "
   ]
  },
  {
   "cell_type": "markdown",
   "metadata": {},
   "source": [
    "Geef een overzicht met daarin de verschillende introductiedatums waarop producten met meer dan 50% marge worden geïntroduceerd (1 kolom, 7 rijen) "
   ]
  },
  {
   "cell_type": "code",
   "execution_count": 5,
   "metadata": {},
   "outputs": [
    {
     "name": "stdout",
     "output_type": "stream",
     "text": [
      "   INTRODUCTION_DATE\n",
      "66        2000-10-26\n",
      "85        1995-02-15\n",
      "86        1995-02-15\n",
      "87        1995-02-15\n",
      "88        1995-02-15\n",
      "89        1995-02-15\n",
      "90        1995-02-15\n"
     ]
    }
   ],
   "source": [
    "import sqlite3\n",
    "import pandas as pd\n",
    "\n",
    "conn = sqlite3.connect(\"go_sales_train.sqlite\")\n",
    "\n",
    "query = 'SELECT * FROM PRODUCT'\n",
    "product_df = pd.read_sql_query(query, conn)\n",
    "\n",
    "filtered_product = product_df[product_df[\"MARGIN\"] > 0.50]\n",
    "result_product = filtered_product[[\"INTRODUCTION_DATE\"]]\n",
    "\n",
    "if result_product.shape[0] >= 7:\n",
    "    result_product = result_product.head(7)\n",
    "else:\n",
    "    result_product = result_product\n",
    "\n",
    "print(result_product)"
   ]
  },
  {
   "cell_type": "markdown",
   "metadata": {},
   "source": [
    "Geef een overzicht met daarin het eerste adres en de stad van verkoopafdelingen waarvan zowel het tweede adres als de regio bekend is (2 kolommen, 7 rijen)"
   ]
  },
  {
   "cell_type": "code",
   "execution_count": 6,
   "metadata": {},
   "outputs": [
    {
     "name": "stdout",
     "output_type": "stream",
     "text": [
      "                            ADDRESS1              CITY\n",
      "2                Singelgravenplein 4         Amsterdam\n",
      "13  Prol. Paseo de la Reforma No. 51  Distrito Federal\n",
      "14               202-2-3 Hyakunincho             Tokyo\n",
      "15                     543-225 Asahi        Osaka City\n",
      "16                  2315 Queen's Ave         Melbourne\n",
      "18             Avenida Paulista, 333         São Paulo\n",
      "24                    3 Albany Court        Birmingham\n"
     ]
    }
   ],
   "source": [
    "query = 'SELECT * FROM sales_branch'\n",
    "sales_branch_df = pd.read_sql_query(query, conn)\n",
    "\n",
    "filtered_sales_branch = sales_branch_df[sales_branch_df['ADDRESS2'].notnull() & sales_branch_df['REGION'].notnull()]\n",
    "\n",
    "result_sales_branch = filtered_sales_branch[['ADDRESS1', 'CITY']]\n",
    "\n",
    "if result_sales_branch.shape[0] >= 7:\n",
    "    result_sales_branch = result_sales_branch.head(7)\n",
    "else:\n",
    "    result_sales_branch = result_sales_branch\n",
    "\n",
    "print(result_sales_branch)\n"
   ]
  },
  {
   "cell_type": "markdown",
   "metadata": {},
   "source": [
    "Geef een overzicht met daarin de landen waar met dollars (dollars of new dollar) wordt betaald. Sorteer de uitkomst op land. (1 kolom, 4 rijen) "
   ]
  },
  {
   "cell_type": "code",
   "execution_count": 19,
   "metadata": {},
   "outputs": [
    {
     "name": "stdout",
     "output_type": "stream",
     "text": [
      "          COUNTRY\n",
      "2   United States\n",
      "3          Canada\n",
      "11         Taiwan\n",
      "14      Australia\n"
     ]
    }
   ],
   "source": [
    "query = 'SELECT * FROM country'\n",
    "currency_df = pd.read_sql_query(query, conn)\n",
    "\n",
    "filtered_currency = currency_df[(currency_df[\"CURRENCY_NAME\"].str.lower() == \"dollars\") \n",
    "                                 | (currency_df[\"CURRENCY_NAME\"].str.lower() == \"new dollar\")]\n",
    "\n",
    "result_currency = filtered_currency[[\"COUNTRY\"]]\n",
    "\n",
    "if result_currency.shape[0] >= 7:\n",
    "    result_currency = result_currency(7)\n",
    "\n",
    "print(result_currency)"
   ]
  },
  {
   "cell_type": "markdown",
   "metadata": {},
   "source": [
    "Geef een overzicht met daarin beide adressen en de stad van vestigingen van klanten waarvan de postcode begint met een ‘D’ (van duitsland). Filter op vestigingen die een tweede adres hebben. (3 kolommen, 2 rijen) "
   ]
  },
  {
   "cell_type": "code",
   "execution_count": 22,
   "metadata": {},
   "outputs": [
    {
     "name": "stdout",
     "output_type": "stream",
     "text": [
      "            ADDRESS1       ADDRESS2       CITY\n",
      "31  Röntgenstraße 90  3. Tür rechts  Frankfurt\n",
      "59   Grubesallee 141       4. Stock    Hamburg\n"
     ]
    }
   ],
   "source": [
    "query = 'SELECT * FROM retailer_site'\n",
    "\n",
    "retailer_df = pd.read_sql_query(query, conn)\n",
    "\n",
    "filtered_country = retailer_df[(retailer_df[\"POSTAL_ZONE\"].str.startswith(\"D\")) &\n",
    "                                (retailer_df[\"ADDRESS2\"].notna())]\n",
    "\n",
    "result_country = filtered_country[[\"ADDRESS1\", \"ADDRESS2\", \"CITY\"]]\n",
    "\n",
    "print(result_country)"
   ]
  },
  {
   "cell_type": "markdown",
   "metadata": {},
   "source": [
    "## Selecties op één tabel met functies"
   ]
  },
  {
   "cell_type": "markdown",
   "metadata": {},
   "source": [
    "Geef het totaal aantal producten dat is teruggebracht (1 waarde) "
   ]
  },
  {
   "cell_type": "code",
   "execution_count": 24,
   "metadata": {},
   "outputs": [
    {
     "name": "stdout",
     "output_type": "stream",
     "text": [
      "Totale teruggebrachte items: (11908,)\n"
     ]
    }
   ],
   "source": [
    "conn = sqlite3.connect(\"go_sales_train.sqlite\")\n",
    "cursor = conn.cursor()\n",
    "cursor.execute(\"SELECT SUM(RETURN_QUANTITY) FROM returned_item;\")\n",
    "total_returned_items = cursor.fetchall()[0]\n",
    "\n",
    "print(f\"Totale teruggebrachte items: {total_returned_items}\")\n"
   ]
  },
  {
   "cell_type": "markdown",
   "metadata": {},
   "source": [
    "Geef het aantal regio’s waarin verkoopafdelingen gevestigd zijn. (1 waarde)"
   ]
  },
  {
   "cell_type": "code",
   "execution_count": 25,
   "metadata": {},
   "outputs": [
    {
     "data": {
      "text/plain": [
       "15"
      ]
     },
     "execution_count": 25,
     "metadata": {},
     "output_type": "execute_result"
    }
   ],
   "source": [
    "cursor.execute(\"SELECT COUNT(DISTINCT REGION) FROM sales_branch;\")\n",
    "num_regions = cursor.fetchone()[0]\n",
    "num_regions"
   ]
  },
  {
   "cell_type": "markdown",
   "metadata": {},
   "source": [
    "Maak 3 variabelen:\n",
    "- Een met de laagste\n",
    "- Een met de hoogste\n",
    "- Een met de gemiddelde (afgerond op 2 decimalen)\n",
    "\n",
    "marge van producten (3 kolommen, 1 rij) "
   ]
  },
  {
   "cell_type": "code",
   "execution_count": 27,
   "metadata": {},
   "outputs": [
    {
     "name": "stdout",
     "output_type": "stream",
     "text": [
      "laagste margin 0.17 hoogste margin 0.7 gemiddeld margin 0.4\n"
     ]
    }
   ],
   "source": [
    "cursor.execute(\"SELECT MIN(MARGIN), MAX(MARGIN), ROUND(AVG(MARGIN), 2) FROM product;\")\n",
    "lowest_margin, highest_margin, average_margin = cursor.fetchone()\n",
    "\n",
    "print(f\"laagste margin {lowest_margin} hoogste margin {highest_margin} gemiddeld margin {average_margin}\")"
   ]
  },
  {
   "cell_type": "markdown",
   "metadata": {},
   "source": [
    "Geef het aantal vestigingen van klanten waarvan het 2e adres niet bekend is (1 waarde)"
   ]
  },
  {
   "cell_type": "code",
   "execution_count": 28,
   "metadata": {},
   "outputs": [
    {
     "data": {
      "text/plain": [
       "286"
      ]
     },
     "execution_count": 28,
     "metadata": {},
     "output_type": "execute_result"
    }
   ],
   "source": [
    "cursor.execute(\"SELECT COUNT(*) FROM retailer_site WHERE ADDRESS2 IS NULL OR ADDRESS2 = '';\")\n",
    "num_locations_without_address2 = cursor.fetchone()[0]\n",
    "\n",
    "num_locations_without_address2"
   ]
  },
  {
   "cell_type": "markdown",
   "metadata": {},
   "source": [
    "Geef de gemiddelde kostprijs van de verkochte producten waarop korting (unit_sale_price < unit_price) is verleend (1 waarde) "
   ]
  },
  {
   "cell_type": "code",
   "execution_count": 29,
   "metadata": {},
   "outputs": [
    {
     "data": {
      "text/plain": [
       "127.34"
      ]
     },
     "execution_count": 29,
     "metadata": {},
     "output_type": "execute_result"
    }
   ],
   "source": [
    "cursor.execute(\"\"\"\n",
    "    SELECT ROUND(AVG(UNIT_COST), 2)\n",
    "    FROM order_details\n",
    "    WHERE UNIT_SALE_PRICE < UNIT_PRICE;\n",
    "\"\"\")\n",
    "average_cost_discounted_products = cursor.fetchone()[0]\n",
    "\n",
    "average_cost_discounted_products"
   ]
  },
  {
   "cell_type": "markdown",
   "metadata": {},
   "source": [
    "Geef een overzicht met daarin het aantal medewerkers per medewerkersfunctie (2 kolommen, 7 rijen) "
   ]
  },
  {
   "cell_type": "code",
   "execution_count": 31,
   "metadata": {},
   "outputs": [
    {
     "name": "stdout",
     "output_type": "stream",
     "text": [
      "                    POSITION_EN  Employee Count\n",
      "4  Level 2 Sales Representative              39\n",
      "5  Level 3 Sales Representative              24\n",
      "0                Branch Manager              19\n",
      "3  Level 1 Sales Representative              13\n",
      "1              District Manager               4\n",
      "6              Regional Manager               2\n",
      "2               General Manager               1\n"
     ]
    }
   ],
   "source": [
    "db_path = \"go_sales_train.sqlite\"\n",
    "conn = sqlite3.connect(db_path)\n",
    "df_sales_staff = pd.read_sql(\"SELECT * FROM sales_staff\", conn)\n",
    "staff_count_df = df_sales_staff.groupby(\"POSITION_EN\").size().reset_index(name=\"Employee Count\")\n",
    "staff_count_df = staff_count_df.sort_values(by=\"Employee Count\", ascending=False)\n",
    "\n",
    "print(staff_count_df)"
   ]
  },
  {
   "cell_type": "markdown",
   "metadata": {},
   "source": [
    "Geef een overzicht met daarin per telefoonnummer het aantal medewerkers dat op dat telefoonnummer bereikbaar is. Toon alleen de telefoonnummer waarop meer dan 4 medewerkers bereikbaar zijn. (2 kolommen, 10 rijen) "
   ]
  },
  {
   "cell_type": "code",
   "execution_count": null,
   "metadata": {},
   "outputs": [
    {
     "name": "stdout",
     "output_type": "stream",
     "text": [
      "             WORK_PHONE  Employee Count\n",
      "23     1 (617) 268-6754               6\n",
      "19     1 (305) 557-4810               6\n",
      "10  +(61) 03 2982  4242               5\n",
      "4     +(44) 121 3505267               5\n",
      "13    +33 1 68 94 52 20               5\n",
      "11  +31 (0)20 692 93 94               5\n",
      "18     1 (206) 292-0012               5\n",
      "20     1 (310) 281-5722               5\n",
      "21     1 (403) 232-5986               5\n",
      "22     1 (416) 493-5595               5\n"
     ]
    }
   ],
   "source": [
    "df_sales_staff = pd.read_sql(\"SELECT WORK_PHONE FROM sales_staff\", conn)\n",
    "phone_count_df = df_sales_staff.groupby(\"WORK_PHONE\").size().reset_index(name=\"Employee Count\")\n",
    "filtered_phone_count_df = phone_count_df[phone_count_df[\"Employee Count\"] > 4]\n",
    "top_10_phone_numbers = filtered_phone_count_df.sort_values(by=\"Employee Count\", ascending=False).head(10)\n",
    "\n",
    "print(top_10_phone_numbers)"
   ]
  },
  {
   "cell_type": "markdown",
   "metadata": {},
   "source": [
    "## Selecties op meerdere tabellen zonder functies"
   ]
  },
  {
   "cell_type": "markdown",
   "metadata": {},
   "source": [
    "Geef een overzicht met daarin het eerste adres en de stad van vestigingen van klanten uit ‘Netherlands’ (2 kolommen, 20 rijen) "
   ]
  },
  {
   "cell_type": "code",
   "execution_count": 37,
   "metadata": {},
   "outputs": [
    {
     "name": "stdout",
     "output_type": "stream",
     "text": [
      "                      ADDRESS1          CITY\n",
      "240                   Beets 36         Beets\n",
      "241               Perestraat 1      Deventer\n",
      "242  Laan van Meerdervoort 966      Den Haag\n",
      "243             Kalfjeslaan 47    Amstelveen\n",
      "244               Startbaan 11    Amstelveen\n",
      "245      Noorderspoorsingel 28     Groningen\n",
      "246              Hogehilweg 13     Amsterdam\n",
      "247             Spoorstraat 43    Varsseveld\n",
      "248             Westhavenweg 8     Amsterdam\n",
      "249              Westzeedijk 4        Muiden\n",
      "250            Gooiergracht 91         Laren\n",
      "251            Hoofdstraat 150   Pieterburen\n",
      "252                Olde Diek 2         Laren\n",
      "253     Amsterdamsestraatweg 8      Maarssen\n",
      "254        Krayenhoffstraat 11     Amsterdam\n",
      "255         Overschiestraat 19     Amsterdam\n",
      "256              Havenbuurt 12        Marken\n",
      "257               Duivendaal 1    Wageningen\n",
      "258              Voorstraat 37  Nieuweschans\n",
      "259         Stadhouderslaan 18     Rotterdam\n"
     ]
    }
   ],
   "source": [
    "df_netherlands = retailer_df[retailer_df['COUNTRY_CODE'] == 7][['ADDRESS1', 'CITY']]\n",
    "df_netherlands_top20 = df_netherlands.head(20)\n",
    "print(df_netherlands_top20)\n"
   ]
  },
  {
   "cell_type": "markdown",
   "metadata": {},
   "source": [
    "Geef een overzicht met daarin de productnamen die tot het producttype ‘Eyewear’ behoren. (1 kolom, 5 rijen) "
   ]
  },
  {
   "cell_type": "code",
   "execution_count": 39,
   "metadata": {},
   "outputs": [
    {
     "name": "stdout",
     "output_type": "stream",
     "text": [
      "    PRODUCT_NAME\n",
      "0      Polar Sun\n",
      "1      Polar Ice\n",
      "2   Polar Sports\n",
      "3     Polar Wave\n",
      "4  Polar Extreme\n"
     ]
    }
   ],
   "source": [
    "df_product_type = pd.read_sql(\"SELECT PRODUCT_TYPE_CODE, PRODUCT_TYPE_EN FROM product_type\", conn)\n",
    "eyewear_code = df_product_type[df_product_type[\"PRODUCT_TYPE_EN\"] == \"Eyewear\"][\"PRODUCT_TYPE_CODE\"].values\n",
    "\n",
    "if len(eyewear_code) > 0:\n",
    "    eyewear_code = eyewear_code[0]\n",
    "\n",
    "    df_product = pd.read_sql(f\"SELECT PRODUCT_NAME FROM product WHERE PRODUCT_TYPE_CODE = {eyewear_code}\", conn)\n",
    "\n",
    "    df_eyewear_products = df_product.head(5)\n",
    "    print(df_eyewear_products)"
   ]
  },
  {
   "cell_type": "markdown",
   "metadata": {},
   "source": [
    "Geef een overzicht met daarin alle unieke eerste adressen van klantvestigingen en de voornaam en achternaam van de verkopers die ‘Branch Manager’ zijn en aan deze vestigingen hebben verkocht (3 kolommen, 1 rij) "
   ]
  },
  {
   "cell_type": "code",
   "execution_count": 41,
   "metadata": {},
   "outputs": [
    {
     "name": "stdout",
     "output_type": "stream",
     "text": [
      "               ADDRESS1 FIRST_NAME LAST_NAME\n",
      "0  Alameda Santos, 9876     Bayard     Lopes\n"
     ]
    }
   ],
   "source": [
    "df_retailer_site = pd.read_sql(\"SELECT DISTINCT ADDRESS1, RETAILER_SITE_CODE FROM retailer_site\", conn)\n",
    "df_sales_staff = pd.read_sql(\"SELECT SALES_STAFF_CODE, FIRST_NAME, LAST_NAME, POSITION_EN FROM sales_staff\", conn)\n",
    "df_order_header = pd.read_sql(\"SELECT ORDER_NUMBER, RETAILER_SITE_CODE, SALES_STAFF_CODE FROM order_header\", conn)\n",
    "\n",
    "df_branch_managers = df_sales_staff[df_sales_staff[\"POSITION_EN\"] == \"Branch Manager\"]\n",
    "df_orders_with_managers = df_order_header.merge(df_branch_managers, on=\"SALES_STAFF_CODE\")\n",
    "df_final = df_orders_with_managers.merge(df_retailer_site, on=\"RETAILER_SITE_CODE\")[[\"ADDRESS1\", \"FIRST_NAME\", \"LAST_NAME\"]]\n",
    "\n",
    "df_final_unique = df_final.drop_duplicates().head(1)\n",
    "\n",
    "print(df_final_unique)"
   ]
  },
  {
   "cell_type": "markdown",
   "metadata": {},
   "source": [
    "Geef een overzicht met daarin van de verkopers hun functie en indien zij iets hebben verkocht de datum waarop de verkoop heeft plaatsgevonden. Laat alleen de verschillende namen van de posities zien van de verkopers die het woord ‘Manager’ in hun positienaam hebben staan. (2 kolommen, 7 rijen) "
   ]
  },
  {
   "cell_type": "code",
   "execution_count": 42,
   "metadata": {},
   "outputs": [
    {
     "name": "stdout",
     "output_type": "stream",
     "text": [
      "           POSITION_EN  ORDER_DATE\n",
      "0       Branch Manager         NaN\n",
      "320   Regional Manager         NaN\n",
      "648   District Manager         NaN\n",
      "3748    Branch Manager  2024-09-09\n",
      "3749    Branch Manager  2024-03-13\n",
      "3750    Branch Manager  2024-01-09\n",
      "4186   General Manager         NaN\n"
     ]
    }
   ],
   "source": [
    "df_sales_staff = pd.read_sql(\"SELECT SALES_STAFF_CODE, POSITION_EN FROM sales_staff\", conn)\n",
    "df_order_header = pd.read_sql(\"SELECT SALES_STAFF_CODE, ORDER_DATE FROM order_header\", conn)\n",
    "\n",
    "df_sales_with_orders = df_sales_staff.merge(df_order_header, on=\"SALES_STAFF_CODE\", how=\"left\")\n",
    "df_managers = df_sales_with_orders[df_sales_with_orders[\"POSITION_EN\"].str.contains(\"Manager\", case=False, na=False)]\n",
    "df_unique_positions = df_managers[[\"POSITION_EN\", \"ORDER_DATE\"]].drop_duplicates().head(7)\n",
    "\n",
    "print(df_unique_positions)\n"
   ]
  },
  {
   "cell_type": "markdown",
   "metadata": {},
   "source": [
    "Geef een overzicht met daarin de verschillende namen van producten en bijbehorende namen van producttypen van de producten waarvoor ooit meer dan 750 stuks tegelijk verkocht zijn. (2 kolommen, 9 rijen) "
   ]
  },
  {
   "cell_type": "code",
   "execution_count": 43,
   "metadata": {},
   "outputs": [
    {
     "name": "stdout",
     "output_type": "stream",
     "text": [
      "             PRODUCT_NAME    PRODUCT_TYPE_EN\n",
      "0       BugShield Extreme  Insect Repellents\n",
      "1                Star Peg              Tents\n",
      "2   BugShield Lotion Lite  Insect Repellents\n",
      "3          Sun Shelter 15          Sunscreen\n",
      "4          Sun Shelter 30          Sunscreen\n",
      "7         BugShield Spray  Insect Repellents\n",
      "11              Firefly 2           Lanterns\n",
      "13       BugShield Lotion  Insect Repellents\n",
      "17             Sun Shield          Sunscreen\n"
     ]
    }
   ],
   "source": [
    "df_product = pd.read_sql(\"SELECT PRODUCT_NUMBER, PRODUCT_NAME, PRODUCT_TYPE_CODE FROM product\", conn)\n",
    "df_product_type = pd.read_sql(\"SELECT PRODUCT_TYPE_CODE, PRODUCT_TYPE_EN FROM product_type\", conn)\n",
    "df_order_details = pd.read_sql(\"SELECT PRODUCT_NUMBER, QUANTITY FROM order_details\", conn)\n",
    "\n",
    "df_large_orders = df_order_details[df_order_details[\"QUANTITY\"] > 750]\n",
    "df_products_sold = df_large_orders.merge(df_product, on=\"PRODUCT_NUMBER\")\n",
    "df_final_products = df_products_sold.merge(df_product_type, on=\"PRODUCT_TYPE_CODE\")[[\"PRODUCT_NAME\", \"PRODUCT_TYPE_EN\"]]\n",
    "\n",
    "\n",
    "df_unique_products = df_final_products.drop_duplicates().head(9)\n",
    "print(df_unique_products)"
   ]
  },
  {
   "cell_type": "markdown",
   "metadata": {},
   "source": [
    "Geef een overzicht met daarin de productnamen waarvan ooit meer dan 40% korting is verleend. De formule voor korting is: (unit_price - unit_sale_price) / unit_price (1 kolom, 8 rijen) "
   ]
  },
  {
   "cell_type": "code",
   "execution_count": 44,
   "metadata": {},
   "outputs": [
    {
     "name": "stdout",
     "output_type": "stream",
     "text": [
      "                    PRODUCT_NAME\n",
      "0              BugShield Natural\n",
      "1                BugShield Spray\n",
      "2   Hailstorm Titanium Woods Set\n",
      "3          BugShield Lotion Lite\n",
      "4                 Sun Shelter 30\n",
      "5              BugShield Extreme\n",
      "7                 Sun Shelter 15\n",
      "10              BugShield Lotion\n"
     ]
    }
   ],
   "source": [
    "df_product = pd.read_sql(\"SELECT PRODUCT_NUMBER, PRODUCT_NAME FROM product\", conn)\n",
    "df_order_details = pd.read_sql(\"SELECT PRODUCT_NUMBER, UNIT_PRICE, UNIT_SALE_PRICE FROM order_details\", conn)\n",
    "df_order_details[\"DISCOUNT\"] = (df_order_details[\"UNIT_PRICE\"] - df_order_details[\"UNIT_SALE_PRICE\"]) / df_order_details[\"UNIT_PRICE\"]\n",
    "\n",
    "df_discounted_products = df_order_details[df_order_details[\"DISCOUNT\"] > 0.40]\n",
    "df_final_discounted = df_discounted_products.merge(df_product, on=\"PRODUCT_NUMBER\")[[\"PRODUCT_NAME\"]]\n",
    "df_unique_discounted_products = df_final_discounted.drop_duplicates().head(8)\n",
    "\n",
    "print(df_unique_discounted_products)\n"
   ]
  },
  {
   "cell_type": "markdown",
   "metadata": {},
   "source": [
    "Geef een overzicht met daarin de retourreden van producten waarvan ooit meer dan 90% van de aangeschafte hoeveelheid is teruggebracht (return_quantity/quantity). (1 kolom, 3 rijen) "
   ]
  },
  {
   "cell_type": "code",
   "execution_count": 51,
   "metadata": {},
   "outputs": [
    {
     "name": "stdout",
     "output_type": "stream",
     "text": [
      "    RETURN_DESCRIPTION_EN\n",
      "0  Unsatisfactory product\n",
      "1   Wrong product shipped\n",
      "2   Wrong product ordered\n"
     ]
    }
   ],
   "source": [
    "import sqlite3\n",
    "import pandas as pd\n",
    "\n",
    "db_path = \"go_sales_train.sqlite\" \n",
    "conn = sqlite3.connect(db_path)\n",
    "\n",
    "df_returned_item = pd.read_sql(\"SELECT ORDER_DETAIL_CODE, RETURN_QUANTITY, RETURN_REASON_CODE FROM returned_item\", conn)\n",
    "df_order_details = pd.read_sql(\"SELECT ORDER_DETAIL_CODE, QUANTITY FROM order_details\", conn)\n",
    "df_return_reason = pd.read_sql(\"SELECT RETURN_REASON_CODE, RETURN_DESCRIPTION_EN FROM return_reason\", conn)\n",
    "\n",
    "df_merged = df_returned_item.merge(df_order_details, on=\"ORDER_DETAIL_CODE\")\n",
    "df_merged[\"RETURN_PERCENTAGE\"] = df_merged[\"RETURN_QUANTITY\"] / df_merged[\"QUANTITY\"]\n",
    "df_high_returns = df_merged[df_merged[\"RETURN_PERCENTAGE\"] > 0.90]\n",
    "df_final_returns = df_high_returns.merge(df_return_reason, on=\"RETURN_REASON_CODE\")[[\"RETURN_DESCRIPTION_EN\"]]\n",
    "\n",
    "df_unique_return_reasons = df_final_returns.drop_duplicates().head(3)\n",
    "print(df_unique_return_reasons)\n"
   ]
  },
  {
   "cell_type": "markdown",
   "metadata": {},
   "source": [
    "## Selecties op meerdere tabellen met functies"
   ]
  },
  {
   "cell_type": "markdown",
   "metadata": {},
   "source": [
    "Geef een overzicht met daarin per producttype het aantal producten die tot dat producttype behoren. (2 kolommen, 21 rijen) "
   ]
  },
  {
   "cell_type": "code",
   "execution_count": 52,
   "metadata": {},
   "outputs": [
    {
     "name": "stdout",
     "output_type": "stream",
     "text": [
      "         PRODUCT_TYPE_EN  Product Count\n",
      "4               Lanterns             12\n",
      "0           Cooking Gear             10\n",
      "2          Sleeping Bags              7\n",
      "7   Climbing Accessories              7\n",
      "1                  Tents              6\n",
      "3                  Packs              6\n",
      "8                  Tools              6\n",
      "10               Eyewear              5\n",
      "9                Watches              5\n",
      "11                Knives              5\n",
      "16             First Aid              5\n",
      "15             Sunscreen              5\n",
      "14     Insect Repellents              5\n",
      "12            Binoculars              4\n",
      "5                   Rope              4\n",
      "6                 Safety              4\n",
      "13            Navigation              4\n",
      "17                 Irons              4\n",
      "18                 Woods              4\n",
      "20      Golf Accessories              4\n",
      "19               Putters              3\n"
     ]
    }
   ],
   "source": [
    "df_product = pd.read_sql(\"SELECT PRODUCT_NUMBER, PRODUCT_TYPE_CODE FROM product\", conn)\n",
    "df_product_type = pd.read_sql(\"SELECT PRODUCT_TYPE_CODE, PRODUCT_TYPE_EN FROM product_type\", conn)\n",
    "\n",
    "df_product_count = df_product.groupby(\"PRODUCT_TYPE_CODE\").size().reset_index(name=\"Product Count\")\n",
    "\n",
    "df_final_product_count = df_product_count.merge(df_product_type, on=\"PRODUCT_TYPE_CODE\")[[\"PRODUCT_TYPE_EN\", \"Product Count\"]]\n",
    "\n",
    "df_final_product_count = df_final_product_count.sort_values(by=\"Product Count\", ascending=False).head(21)\n",
    "print(df_final_product_count)"
   ]
  },
  {
   "cell_type": "markdown",
   "metadata": {},
   "source": [
    "Geef een overzicht met daarin per land het aantal vestigingen van klanten die zich in dat land bevinden. (2 kolommen, 21 rijen) "
   ]
  },
  {
   "cell_type": "code",
   "execution_count": 53,
   "metadata": {},
   "outputs": [
    {
     "name": "stdout",
     "output_type": "stream",
     "text": [
      "           COUNTRY  Retailer Count\n",
      "2    United States             101\n",
      "1          Germany              32\n",
      "3           Canada              31\n",
      "0           France              29\n",
      "8   United Kingdom              25\n",
      "10           Japan              25\n",
      "6      Netherlands              20\n",
      "7      Switzerland              13\n",
      "5            Italy              12\n",
      "9           Sweden              12\n",
      "4          Austria              10\n",
      "11          Taiwan              10\n",
      "12           Korea              10\n",
      "13           China              10\n",
      "14       Australia              10\n",
      "15         Belgium              10\n",
      "18          Mexico              10\n",
      "17           Spain               9\n",
      "16         Denmark               6\n",
      "20         Finland               5\n",
      "19          Brazil               1\n"
     ]
    }
   ],
   "source": [
    "df_retailer_site = pd.read_sql(\"SELECT COUNTRY_CODE FROM retailer_site\", conn)\n",
    "df_country = pd.read_sql(\"SELECT COUNTRY_CODE, COUNTRY FROM country\", conn)\n",
    "\n",
    "df_country_count = df_retailer_site.groupby(\"COUNTRY_CODE\").size().reset_index(name=\"Retailer Count\")\n",
    "df_final_country_count = df_country_count.merge(df_country, on=\"COUNTRY_CODE\")[[\"COUNTRY\", \"Retailer Count\"]]\n",
    "df_final_country_count = df_final_country_count.sort_values(by=\"Retailer Count\", ascending=False).head(21)\n",
    "print(df_final_country_count)\n"
   ]
  },
  {
   "cell_type": "markdown",
   "metadata": {},
   "source": [
    "Geef een overzicht met daarin van de producten behorend tot het producttype ‘Cooking Gear’ per productnaam de totaal verkochte hoeveelheid en de gemiddelde verkoopprijs. Sorteer de uitkomst op totaal verkochte hoeveelheid. (4 kolommen, 10 rijen) "
   ]
  },
  {
   "cell_type": "code",
   "execution_count": 54,
   "metadata": {},
   "outputs": [
    {
     "name": "stdout",
     "output_type": "stream",
     "text": [
      "                PRODUCT_NAME  Total_Sold  Avg_Sale_Price\n",
      "9        TrailChef Water Bag       36738        6.032506\n",
      "2              TrailChef Cup       27418        6.976490\n",
      "0          TrailChef Canteen       26544       11.979418\n",
      "6      TrailChef Kitchen Kit       22206       22.345975\n",
      "8         TrailChef Utensils       13776       17.294151\n",
      "4     TrailChef Double Flame       12476      132.672882\n",
      "1         TrailChef Cook Set       10878       51.687926\n",
      "5           TrailChef Kettle        8826       12.201235\n",
      "7     TrailChef Single Flame        8504       63.827622\n",
      "3  TrailChef Deluxe Cook Set        3110      121.217638\n"
     ]
    }
   ],
   "source": [
    "df_product = pd.read_sql(\"SELECT PRODUCT_NUMBER, PRODUCT_NAME, PRODUCT_TYPE_CODE FROM product\", conn)\n",
    "df_product_type = pd.read_sql(\"SELECT PRODUCT_TYPE_CODE, PRODUCT_TYPE_EN FROM product_type\", conn)\n",
    "df_order_details = pd.read_sql(\"SELECT PRODUCT_NUMBER, QUANTITY, UNIT_SALE_PRICE FROM order_details\", conn)\n",
    "\n",
    "cooking_gear_code = df_product_type[df_product_type[\"PRODUCT_TYPE_EN\"] == \"Cooking Gear\"][\"PRODUCT_TYPE_CODE\"].values\n",
    "\n",
    "if len(cooking_gear_code) > 0:\n",
    "    cooking_gear_code = cooking_gear_code[0]\n",
    "    \n",
    "    df_cooking_products = df_product[df_product[\"PRODUCT_TYPE_CODE\"] == cooking_gear_code]\n",
    "    df_cooking_sales = df_cooking_products.merge(df_order_details, on=\"PRODUCT_NUMBER\")\n",
    "\n",
    "    df_summary = df_cooking_sales.groupby([\"PRODUCT_NAME\"]).agg(\n",
    "        Total_Sold=(\"QUANTITY\", \"sum\"),\n",
    "        Avg_Sale_Price=(\"UNIT_SALE_PRICE\", \"mean\")\n",
    "    ).reset_index()\n",
    "\n",
    "    df_summary_sorted = df_summary.sort_values(by=\"Total_Sold\", ascending=False).head(10)\n",
    "\n",
    "    print(df_summary_sorted)\n"
   ]
  },
  {
   "cell_type": "markdown",
   "metadata": {},
   "source": [
    "Geef een overzicht met daarin per land de naam van het land, de naam van de stad waar de verkoopafdeling is gevestigd (noem de kolomnaam in het overzicht ‘verkoper’) en het aantal steden waar zich klanten bevinden in dat land (noem de kolomnaam in het overzicht ‘klanten’) (3 kolommen, 29 rijen) "
   ]
  },
  {
   "cell_type": "code",
   "execution_count": 56,
   "metadata": {},
   "outputs": [
    {
     "name": "stdout",
     "output_type": "stream",
     "text": [
      "           COUNTRY          verkoper  klanten\n",
      "0           France             Paris       14\n",
      "1            Italy            Milano        9\n",
      "2      Netherlands         Amsterdam       15\n",
      "3          Germany           Hamburg       18\n",
      "4          Germany           München       18\n",
      "5           Sweden             Kista       10\n",
      "6           Canada           Calgary       16\n",
      "7           Canada           Toronto       16\n",
      "8    United States            Boston       62\n",
      "9    United States           Seattle       62\n",
      "10   United States       Los Angeles       62\n",
      "11   United States             Miami       62\n",
      "12          France              Lyon       14\n",
      "13          Mexico  Distrito Federal        6\n",
      "14           Japan             Tokyo        5\n",
      "15           Japan        Osaka City        5\n",
      "16       Australia         Melbourne        6\n",
      "17           Spain            Bilbao        5\n",
      "18          Brazil         São Paulo        1\n",
      "19         Finland            Kuopio        5\n",
      "20           Korea             Seoul        6\n",
      "21          Taiwan         San Chung        9\n",
      "22           China          Shanghai        7\n",
      "23  United Kingdom            London        9\n",
      "24  United Kingdom        Birmingham        9\n",
      "25     Switzerland            Zürich        9\n",
      "26         Belgium          Heverlee        8\n",
      "27         Austria              Wien        9\n"
     ]
    }
   ],
   "source": [
    "df_sales_branch = pd.read_sql(\"SELECT CITY, COUNTRY_CODE FROM sales_branch\", conn)\n",
    "df_retailer_site = pd.read_sql(\"SELECT CITY, COUNTRY_CODE FROM retailer_site\", conn)\n",
    "df_country = pd.read_sql(\"SELECT COUNTRY_CODE, COUNTRY FROM country\", conn)\n",
    "\n",
    "df_customer_cities_count = df_retailer_site.groupby(\"COUNTRY_CODE\")[\"CITY\"].nunique().reset_index(name=\"klanten\")\n",
    "\n",
    "df_sales_branch = df_sales_branch.rename(columns={\"CITY\": \"verkoper\"})\n",
    "\n",
    "df_sales_branch = df_sales_branch.merge(df_country, on=\"COUNTRY_CODE\")\n",
    "\n",
    "df_final_summary = df_sales_branch.merge(df_customer_cities_count, on=\"COUNTRY_CODE\")[[\"COUNTRY\", \"verkoper\", \"klanten\"]]\n",
    "df_final_summary = df_final_summary.head(29)\n",
    "\n",
    "print(df_final_summary)\n"
   ]
  },
  {
   "cell_type": "markdown",
   "metadata": {},
   "source": [
    "## Pythonvertalingen van SUBSELECT en UNION met o.a. for-loops"
   ]
  },
  {
   "cell_type": "markdown",
   "metadata": {},
   "source": [
    "Geef een overzicht met daarin de voornaam en de achternaam van de medewerkers die nog nooit wat hebben verkocht (2 kolommen, 25 rijen) "
   ]
  },
  {
   "cell_type": "code",
   "execution_count": 58,
   "metadata": {},
   "outputs": [
    {
     "name": "stdout",
     "output_type": "stream",
     "text": [
      "   FIRST_NAME      LAST_NAME\n",
      "0       Denis           Pagé\n",
      "5        Else         Mörike\n",
      "6       Frank          Fuchs\n",
      "9       Fritz         Hirsch\n",
      "10       Jörg          Kunze\n",
      "12      Maria      Iacobucci\n",
      "17       Kick        Kalkman\n",
      "22      Karin      Bergström\n",
      "25      Sally          White\n",
      "27      Frank        Bretton\n",
      "28    Georges  Saint-Germain\n",
      "33       Alex      Rodriguez\n",
      "37   Samantha          Floyd\n",
      "41      Julie          Olsen\n",
      "45      Corey         Wright\n",
      "51    Estelle        Johnson\n",
      "52       Greg        Belding\n",
      "55      Julie        Béchard\n",
      "59      Lucía          Reyna\n",
      "64     Kazumi        Uragome\n",
      "66      Alice         Walter\n",
      "84     Walter         Taylor\n",
      "85   Penelope        Tamrine\n",
      "88      Polly         Linton\n",
      "96      Gracy        Gellens\n"
     ]
    }
   ],
   "source": [
    "import sqlite3\n",
    "import pandas as pd\n",
    "\n",
    "conn = sqlite3.connect(\"go_sales_train.sqlite\")\n",
    "df_sales_staff = pd.read_sql(\"SELECT SALES_STAFF_CODE, FIRST_NAME, LAST_NAME FROM sales_staff\", conn)\n",
    "df_order_header = pd.read_sql(\"SELECT DISTINCT SALES_STAFF_CODE FROM order_header\", conn)\n",
    "\n",
    "df_unsold_staff = df_sales_staff[~df_sales_staff[\"SALES_STAFF_CODE\"].isin(df_order_header[\"SALES_STAFF_CODE\"])]\n",
    "df_result = df_unsold_staff[[\"FIRST_NAME\", \"LAST_NAME\"]].head(25)\n",
    "print(df_result)\n"
   ]
  },
  {
   "cell_type": "markdown",
   "metadata": {},
   "source": [
    "Geef een overzicht met daarin het aantal producten waarvan de marge lager is dan de gemiddelde marge van alle producten samen. Geef in het overzicht tevens aan wat de gemiddelde marge is van dit aantal producten waarvan de marge lager dan de gemiddelde marge van alle producten samen is. (1 kolom, 2 rijen) "
   ]
  },
  {
   "cell_type": "code",
   "execution_count": 59,
   "metadata": {},
   "outputs": [
    {
     "name": "stdout",
     "output_type": "stream",
     "text": [
      "             Metric  Value\n",
      "0  Aantal producten  59.00\n",
      "1  Gemiddelde marge   0.29\n"
     ]
    }
   ],
   "source": [
    "df_product = pd.read_sql(\"SELECT MARGIN FROM product\", conn)\n",
    "average_margin = df_product[\"MARGIN\"].mean()\n",
    "df_lower_margin_products = df_product[df_product[\"MARGIN\"] < average_margin]\n",
    "\n",
    "num_lower_margin_products = len(df_lower_margin_products)\n",
    "avg_margin_lower_products = df_lower_margin_products[\"MARGIN\"].mean()\n",
    "\n",
    "df_result = pd.DataFrame({\n",
    "    \"Metric\": [\"Aantal producten\", \"Gemiddelde marge\"],\n",
    "    \"Value\": [num_lower_margin_products, round(avg_margin_lower_products, 2)]\n",
    "})\n",
    "\n",
    "print(df_result)\n"
   ]
  },
  {
   "cell_type": "markdown",
   "metadata": {},
   "source": [
    "Geef een overzicht met daarin de namen van de producten die voor meer dan 500 (verkoopprijs) zijn verkocht maar nooit zijn teruggebracht. (1 kolom, 13 rijen) "
   ]
  },
  {
   "cell_type": "code",
   "execution_count": 62,
   "metadata": {},
   "outputs": [
    {
     "name": "stdout",
     "output_type": "stream",
     "text": [
      "                          PRODUCT_NAME\n",
      "0                            Star Dome\n",
      "6                         Star Gazer 2\n",
      "14                        Star Gazer 3\n",
      "23                        Star Gazer 6\n",
      "31               Hailstorm Steel Irons\n",
      "40            Hailstorm Titanium Irons\n",
      "49          Lady Hailstorm Steel Irons\n",
      "54       Lady Hailstorm Titanium Irons\n",
      "60        Hailstorm Titanium Woods Set\n",
      "70           Hailstorm Steel Woods Set\n",
      "78   Lady Hailstorm Titanium Woods Set\n",
      "87      Lady Hailstorm Steel Woods Set\n",
      "121                     Husky Rope 200\n"
     ]
    }
   ],
   "source": [
    "df_product = pd.read_sql(\"SELECT PRODUCT_NUMBER, PRODUCT_NAME FROM product\", conn)\n",
    "df_order_details = pd.read_sql(\"SELECT PRODUCT_NUMBER, ORDER_DETAIL_CODE, UNIT_SALE_PRICE FROM order_details\", conn)\n",
    "df_returned_item = pd.read_sql(\"SELECT DISTINCT ORDER_DETAIL_CODE FROM returned_item\", conn)\n",
    "\n",
    "df_expensive_sales = df_order_details[df_order_details[\"UNIT_SALE_PRICE\"] > 500]\n",
    "\n",
    "df_never_returned_sales = df_expensive_sales[~df_expensive_sales[\"ORDER_DETAIL_CODE\"].isin(df_returned_item[\"ORDER_DETAIL_CODE\"])]\n",
    "\n",
    "df_final_products = df_never_returned_sales.merge(df_product, on=\"PRODUCT_NUMBER\")[[\"PRODUCT_NAME\"]]\n",
    "\n",
    "df_unique_expensive_never_returned = df_final_products.drop_duplicates().head(13)\n",
    "\n",
    "print(df_unique_expensive_never_returned)\n"
   ]
  },
  {
   "cell_type": "markdown",
   "metadata": {},
   "source": [
    "Geef een overzicht met daarin per (achternaam van) medewerker of hij/zij manager is of niet, door deze informatie toe te voegen als extra 'Ja/Nee'-kolom.<br>\n",
    "Hint: gebruik een for-loop waarin je o.a. bepaalt of het woord 'Manager' in de functie (position_en) staat. (2 kolommen, 102 rijen)."
   ]
  },
  {
   "cell_type": "code",
   "execution_count": 63,
   "metadata": {},
   "outputs": [
    {
     "name": "stdout",
     "output_type": "stream",
     "text": [
      "     LAST_NAME Is_Manager\n",
      "0         Pagé         Ja\n",
      "1       Michel        Nee\n",
      "2     Clermont        Nee\n",
      "3       Jauvin        Nee\n",
      "4    Wiesinger        Nee\n",
      "..         ...        ...\n",
      "97    Laermans        Nee\n",
      "98     De Crée        Nee\n",
      "99     Lattrez        Nee\n",
      "100  Seefelder        Nee\n",
      "101     Grüner        Nee\n",
      "\n",
      "[102 rows x 2 columns]\n"
     ]
    }
   ],
   "source": [
    "df_sales_staff = pd.read_sql(\"SELECT LAST_NAME, POSITION_EN FROM sales_staff\", conn)\n",
    "df_sales_staff[\"Is_Manager\"] = [\"Ja\" if \"Manager\" in position else \"Nee\" for position in df_sales_staff[\"POSITION_EN\"]]\n",
    "\n",
    "df_final_managers = df_sales_staff[[\"LAST_NAME\", \"Is_Manager\"]].head(102)\n",
    "print(df_final_managers)"
   ]
  },
  {
   "cell_type": "markdown",
   "metadata": {},
   "source": [
    "Met de onderstaande code laat je Python het huidige jaar uitrekenen."
   ]
  },
  {
   "cell_type": "code",
   "execution_count": 60,
   "metadata": {},
   "outputs": [
    {
     "data": {
      "text/plain": [
       "2025"
      ]
     },
     "execution_count": 60,
     "metadata": {},
     "output_type": "execute_result"
    }
   ],
   "source": [
    "from datetime import date\n",
    "date.today().year"
   ]
  },
  {
   "cell_type": "markdown",
   "metadata": {},
   "source": [
    "Met de onderstaande code selecteer je op een bepaald jaartal uit een datum."
   ]
  },
  {
   "cell_type": "code",
   "execution_count": 61,
   "metadata": {},
   "outputs": [
    {
     "data": {
      "text/plain": [
       "2013"
      ]
     },
     "execution_count": 61,
     "metadata": {},
     "output_type": "execute_result"
    }
   ],
   "source": [
    "from datetime import datetime\n",
    "\n",
    "date_str = '16-8-2013'\n",
    "date_format = '%d-%m-%Y'\n",
    "date_obj = datetime.strptime(date_str, date_format)\n",
    "\n",
    "date_obj.year"
   ]
  },
  {
   "cell_type": "markdown",
   "metadata": {},
   "source": [
    "Geef met behulp van bovenstaande hulpcode een overzicht met daarin op basis van het aantal jaar dat iemand in dienst is of een medewerker ‘kort in dienst’ (minder dan 25 jaar in dienst) of een ‘lang in dienst’ (groter gelijk dan 12 jaar in dienst) is. Geef daarbij per medewerker in een aparte kolom zowel ‘kort in dienst’ als ‘lang in dienst’ aan. Gebruik (wederom) een for-loop.<br>\n",
    "(2 kolommen, 102 rijen) "
   ]
  },
  {
   "cell_type": "code",
   "execution_count": 64,
   "metadata": {},
   "outputs": [
    {
     "name": "stdout",
     "output_type": "stream",
     "text": [
      "     LAST_NAME Kort_in_Dienst Lang_in_Dienst\n",
      "0         Pagé            Nee             Ja\n",
      "1       Michel            Nee             Ja\n",
      "2     Clermont            Nee             Ja\n",
      "3       Jauvin            Nee             Ja\n",
      "4    Wiesinger            Nee             Ja\n",
      "..         ...            ...            ...\n",
      "97    Laermans            Nee             Ja\n",
      "98     De Crée            Nee             Ja\n",
      "99     Lattrez            Nee             Ja\n",
      "100  Seefelder            Nee             Ja\n",
      "101     Grüner            Nee             Ja\n",
      "\n",
      "[102 rows x 3 columns]\n"
     ]
    }
   ],
   "source": [
    "from datetime import datetime\n",
    "\n",
    "df_sales_staff = pd.read_sql(\"SELECT LAST_NAME, DATE_HIRED FROM sales_staff\", conn)\n",
    "df_sales_staff[\"DATE_HIRED\"] = pd.to_datetime(df_sales_staff[\"DATE_HIRED\"], errors=\"coerce\")\n",
    "current_year = datetime.now().year\n",
    "\n",
    "df_sales_staff[\"Years_in_Service\"] = current_year - df_sales_staff[\"DATE_HIRED\"].dt.year\n",
    "\n",
    "df_sales_staff[\"Kort_in_Dienst\"] = [\"Ja\" if years < 25 else \"Nee\" for years in df_sales_staff[\"Years_in_Service\"]]\n",
    "df_sales_staff[\"Lang_in_Dienst\"] = [\"Ja\" if years >= 12 else \"Nee\" for years in df_sales_staff[\"Years_in_Service\"]]\n",
    "\n",
    "df_final_service = df_sales_staff[[\"LAST_NAME\", \"Kort_in_Dienst\", \"Lang_in_Dienst\"]].head(102)\n",
    "\n",
    "print(df_final_service)\n"
   ]
  },
  {
   "cell_type": "markdown",
   "metadata": {},
   "source": [
    "## Van Jupyter Notebook naar Pythonproject"
   ]
  },
  {
   "cell_type": "markdown",
   "metadata": {},
   "source": [
    "1. Richt de map waarin jullie tot nu toe hebben gewerkt in volgens de mappenstructuur uit de slides.\n",
    "2. Maak van de ontstane mappenstructuur een Pythonproject dat uitvoerbaar is vanuit de terminal. Maak daarin een .py-bestand dat minstens 5 antwoorden uit dit notebook (in de vorm van een DataFrame) exporteert naar Excelbestanden. Alle notebooks mogen als notebook blijven bestaan.\n",
    "3. Zorg ervoor dat dit Pythonproject zijn eigen repo heeft op Github. Let op: je virtual environment moet <b><u>niet</u></b> meegaan naar Github.\n",
    "\n",
    "Je mag tijdens dit proces je uit stap 1 ontstane mappenstructuur aanpassen, zolang je bij het beoordelingsmoment kan verantwoorden wat de motivatie hierachter is. De slides verplichten je dus nergens toe."
   ]
  }
 ],
 "metadata": {
  "kernelspec": {
   "display_name": ".venv",
   "language": "python",
   "name": "python3"
  },
  "language_info": {
   "codemirror_mode": {
    "name": "ipython",
    "version": 3
   },
   "file_extension": ".py",
   "mimetype": "text/x-python",
   "name": "python",
   "nbconvert_exporter": "python",
   "pygments_lexer": "ipython3",
   "version": "3.13.2"
  }
 },
 "nbformat": 4,
 "nbformat_minor": 2
}
